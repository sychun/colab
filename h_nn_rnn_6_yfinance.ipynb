{
  "nbformat": 4,
  "nbformat_minor": 0,
  "metadata": {
    "colab": {
      "name": "h.nn.rnn-6.ipynb",
      "provenance": [],
      "collapsed_sections": [],
      "authorship_tag": "ABX9TyNIvgg0JyT5WKDeDcAHVkCk",
      "include_colab_link": true
    },
    "kernelspec": {
      "name": "python3",
      "display_name": "Python 3"
    },
    "accelerator": "GPU"
  },
  "cells": [
    {
      "cell_type": "markdown",
      "metadata": {
        "id": "view-in-github",
        "colab_type": "text"
      },
      "source": [
        "<a href=\"https://colab.research.google.com/github/sychun/colab/blob/master/h_nn_rnn_6_yfinance.ipynb\" target=\"_parent\"><img src=\"https://colab.research.google.com/assets/colab-badge.svg\" alt=\"Open In Colab\"/></a>"
      ]
    },
    {
      "cell_type": "code",
      "metadata": {
        "id": "1WqYWmJ6mMrM",
        "outputId": "3f2f52be-b02c-44e7-fa83-42f49b127f93",
        "colab": {
          "base_uri": "https://localhost:8080/",
          "height": 474
        }
      },
      "source": [
        "# !pip install yfinance # http://finance.yahoo.com/"
      ],
      "execution_count": 2,
      "outputs": [
        {
          "output_type": "stream",
          "text": [
            "Collecting yfinance\n",
            "  Downloading https://files.pythonhosted.org/packages/7a/e8/b9d7104d3a4bf39924799067592d9e59119fcfc900a425a12e80a3123ec8/yfinance-0.1.55.tar.gz\n",
            "Requirement already satisfied: pandas>=0.24 in /usr/local/lib/python3.6/dist-packages (from yfinance) (1.1.2)\n",
            "Requirement already satisfied: numpy>=1.15 in /usr/local/lib/python3.6/dist-packages (from yfinance) (1.18.5)\n",
            "Requirement already satisfied: requests>=2.20 in /usr/local/lib/python3.6/dist-packages (from yfinance) (2.23.0)\n",
            "Requirement already satisfied: multitasking>=0.0.7 in /usr/local/lib/python3.6/dist-packages (from yfinance) (0.0.9)\n",
            "Collecting lxml>=4.5.1\n",
            "\u001b[?25l  Downloading https://files.pythonhosted.org/packages/79/37/d420b7fdc9a550bd29b8cfeacff3b38502d9600b09d7dfae9a69e623b891/lxml-4.5.2-cp36-cp36m-manylinux1_x86_64.whl (5.5MB)\n",
            "\u001b[K     |████████████████████████████████| 5.5MB 6.8MB/s \n",
            "\u001b[?25hRequirement already satisfied: python-dateutil>=2.7.3 in /usr/local/lib/python3.6/dist-packages (from pandas>=0.24->yfinance) (2.8.1)\n",
            "Requirement already satisfied: pytz>=2017.2 in /usr/local/lib/python3.6/dist-packages (from pandas>=0.24->yfinance) (2018.9)\n",
            "Requirement already satisfied: chardet<4,>=3.0.2 in /usr/local/lib/python3.6/dist-packages (from requests>=2.20->yfinance) (3.0.4)\n",
            "Requirement already satisfied: urllib3!=1.25.0,!=1.25.1,<1.26,>=1.21.1 in /usr/local/lib/python3.6/dist-packages (from requests>=2.20->yfinance) (1.24.3)\n",
            "Requirement already satisfied: idna<3,>=2.5 in /usr/local/lib/python3.6/dist-packages (from requests>=2.20->yfinance) (2.10)\n",
            "Requirement already satisfied: certifi>=2017.4.17 in /usr/local/lib/python3.6/dist-packages (from requests>=2.20->yfinance) (2020.6.20)\n",
            "Requirement already satisfied: six>=1.5 in /usr/local/lib/python3.6/dist-packages (from python-dateutil>=2.7.3->pandas>=0.24->yfinance) (1.15.0)\n",
            "Building wheels for collected packages: yfinance\n",
            "  Building wheel for yfinance (setup.py) ... \u001b[?25l\u001b[?25hdone\n",
            "  Created wheel for yfinance: filename=yfinance-0.1.55-py2.py3-none-any.whl size=22618 sha256=1416674f88da8284c985893d7f00f24c1613e4e4fcccfc478e466a5e00e4aa64\n",
            "  Stored in directory: /root/.cache/pip/wheels/04/98/cc/2702a4242d60bdc14f48b4557c427ded1fe92aedf257d4565c\n",
            "Successfully built yfinance\n",
            "Installing collected packages: lxml, yfinance\n",
            "  Found existing installation: lxml 4.2.6\n",
            "    Uninstalling lxml-4.2.6:\n",
            "      Successfully uninstalled lxml-4.2.6\n",
            "Successfully installed lxml-4.5.2 yfinance-0.1.55\n"
          ],
          "name": "stdout"
        }
      ]
    },
    {
      "cell_type": "code",
      "metadata": {
        "id": "eXsxuUgbmbNE"
      },
      "source": [
        "import yfinance as yf"
      ],
      "execution_count": 3,
      "outputs": []
    },
    {
      "cell_type": "code",
      "metadata": {
        "id": "AZ3TB8nzoLl-"
      },
      "source": [
        "ticker = yf.Ticker('051910.KS')\n",
        "data = ticker.history(period='max')"
      ],
      "execution_count": 9,
      "outputs": []
    },
    {
      "cell_type": "code",
      "metadata": {
        "id": "RfEzZWLcor3P",
        "outputId": "c1bd6de9-2163-4931-8c4d-661ea021ec72",
        "colab": {
          "base_uri": "https://localhost:8080/",
          "height": 258
        }
      },
      "source": [
        "print(type(data_lg))\n",
        "print(data_lg.shape)\n",
        "data.head()"
      ],
      "execution_count": 10,
      "outputs": [
        {
          "output_type": "stream",
          "text": [
            "<class 'pandas.core.frame.DataFrame'>\n",
            "(4832, 7)\n"
          ],
          "name": "stdout"
        },
        {
          "output_type": "execute_result",
          "data": {
            "text/html": [
              "<div>\n",
              "<style scoped>\n",
              "    .dataframe tbody tr th:only-of-type {\n",
              "        vertical-align: middle;\n",
              "    }\n",
              "\n",
              "    .dataframe tbody tr th {\n",
              "        vertical-align: top;\n",
              "    }\n",
              "\n",
              "    .dataframe thead th {\n",
              "        text-align: right;\n",
              "    }\n",
              "</style>\n",
              "<table border=\"1\" class=\"dataframe\">\n",
              "  <thead>\n",
              "    <tr style=\"text-align: right;\">\n",
              "      <th></th>\n",
              "      <th>Open</th>\n",
              "      <th>High</th>\n",
              "      <th>Low</th>\n",
              "      <th>Close</th>\n",
              "      <th>Volume</th>\n",
              "      <th>Dividends</th>\n",
              "      <th>Stock Splits</th>\n",
              "    </tr>\n",
              "    <tr>\n",
              "      <th>Date</th>\n",
              "      <th></th>\n",
              "      <th></th>\n",
              "      <th></th>\n",
              "      <th></th>\n",
              "      <th></th>\n",
              "      <th></th>\n",
              "      <th></th>\n",
              "    </tr>\n",
              "  </thead>\n",
              "  <tbody>\n",
              "    <tr>\n",
              "      <th>2001-04-25</th>\n",
              "      <td>9741.689716</td>\n",
              "      <td>9741.689716</td>\n",
              "      <td>8297.232275</td>\n",
              "      <td>8733.928711</td>\n",
              "      <td>3094900</td>\n",
              "      <td>0.0</td>\n",
              "      <td>0</td>\n",
              "    </tr>\n",
              "    <tr>\n",
              "      <th>2001-04-26</th>\n",
              "      <td>9741.689716</td>\n",
              "      <td>9741.689716</td>\n",
              "      <td>8297.232275</td>\n",
              "      <td>8733.928711</td>\n",
              "      <td>3094900</td>\n",
              "      <td>0.0</td>\n",
              "      <td>0</td>\n",
              "    </tr>\n",
              "    <tr>\n",
              "      <th>2001-04-27</th>\n",
              "      <td>8162.861763</td>\n",
              "      <td>8599.558071</td>\n",
              "      <td>8062.085691</td>\n",
              "      <td>8532.374023</td>\n",
              "      <td>854300</td>\n",
              "      <td>0.0</td>\n",
              "      <td>0</td>\n",
              "    </tr>\n",
              "    <tr>\n",
              "      <th>2001-04-30</th>\n",
              "      <td>8364.414413</td>\n",
              "      <td>8633.150620</td>\n",
              "      <td>8364.414413</td>\n",
              "      <td>8599.558594</td>\n",
              "      <td>803200</td>\n",
              "      <td>0.0</td>\n",
              "      <td>0</td>\n",
              "    </tr>\n",
              "    <tr>\n",
              "      <th>2001-05-02</th>\n",
              "      <td>8666.744644</td>\n",
              "      <td>8901.888878</td>\n",
              "      <td>8498.784476</td>\n",
              "      <td>8733.928711</td>\n",
              "      <td>851500</td>\n",
              "      <td>0.0</td>\n",
              "      <td>0</td>\n",
              "    </tr>\n",
              "  </tbody>\n",
              "</table>\n",
              "</div>"
            ],
            "text/plain": [
              "                   Open         High  ...  Dividends  Stock Splits\n",
              "Date                                  ...                         \n",
              "2001-04-25  9741.689716  9741.689716  ...        0.0             0\n",
              "2001-04-26  9741.689716  9741.689716  ...        0.0             0\n",
              "2001-04-27  8162.861763  8599.558071  ...        0.0             0\n",
              "2001-04-30  8364.414413  8633.150620  ...        0.0             0\n",
              "2001-05-02  8666.744644  8901.888878  ...        0.0             0\n",
              "\n",
              "[5 rows x 7 columns]"
            ]
          },
          "metadata": {
            "tags": []
          },
          "execution_count": 10
        }
      ]
    },
    {
      "cell_type": "code",
      "metadata": {
        "id": "18aPtQe_oxkl",
        "outputId": "47a821be-17ee-4802-ab4c-336dc532469d",
        "colab": {
          "base_uri": "https://localhost:8080/",
          "height": 268
        }
      },
      "source": [
        "import matplotlib.pyplot as plt\n",
        "plt.plot(data['Close'])\n",
        "plt.show()"
      ],
      "execution_count": 11,
      "outputs": [
        {
          "output_type": "display_data",
          "data": {
            "image/png": "[encoded data removed]",
            "text/plain": [
              "<Figure size 432x288 with 1 Axes>"
            ]
          },
          "metadata": {
            "tags": [],
            "needs_background": "light"
          }
        }
      ]
    },
    {
      "cell_type": "code",
      "metadata": {
        "id": "uGVje11prmj7",
        "outputId": "75ba179a-d601-497f-9d4a-8485479d6263",
        "colab": {
          "base_uri": "https://localhost:8080/",
          "height": 195
        }
      },
      "source": [
        "df = data[data.columns[:5]]\n",
        "df = df.reset_index(drop=True)\n",
        "df.head()"
      ],
      "execution_count": 22,
      "outputs": [
        {
          "output_type": "execute_result",
          "data": {
            "text/html": [
              "<div>\n",
              "<style scoped>\n",
              "    .dataframe tbody tr th:only-of-type {\n",
              "        vertical-align: middle;\n",
              "    }\n",
              "\n",
              "    .dataframe tbody tr th {\n",
              "        vertical-align: top;\n",
              "    }\n",
              "\n",
              "    .dataframe thead th {\n",
              "        text-align: right;\n",
              "    }\n",
              "</style>\n",
              "<table border=\"1\" class=\"dataframe\">\n",
              "  <thead>\n",
              "    <tr style=\"text-align: right;\">\n",
              "      <th></th>\n",
              "      <th>Open</th>\n",
              "      <th>High</th>\n",
              "      <th>Low</th>\n",
              "      <th>Close</th>\n",
              "      <th>Volume</th>\n",
              "    </tr>\n",
              "  </thead>\n",
              "  <tbody>\n",
              "    <tr>\n",
              "      <th>0</th>\n",
              "      <td>9741.689716</td>\n",
              "      <td>9741.689716</td>\n",
              "      <td>8297.232275</td>\n",
              "      <td>8733.928711</td>\n",
              "      <td>3094900</td>\n",
              "    </tr>\n",
              "    <tr>\n",
              "      <th>1</th>\n",
              "      <td>9741.689716</td>\n",
              "      <td>9741.689716</td>\n",
              "      <td>8297.232275</td>\n",
              "      <td>8733.928711</td>\n",
              "      <td>3094900</td>\n",
              "    </tr>\n",
              "    <tr>\n",
              "      <th>2</th>\n",
              "      <td>8162.861763</td>\n",
              "      <td>8599.558071</td>\n",
              "      <td>8062.085691</td>\n",
              "      <td>8532.374023</td>\n",
              "      <td>854300</td>\n",
              "    </tr>\n",
              "    <tr>\n",
              "      <th>3</th>\n",
              "      <td>8364.414413</td>\n",
              "      <td>8633.150620</td>\n",
              "      <td>8364.414413</td>\n",
              "      <td>8599.558594</td>\n",
              "      <td>803200</td>\n",
              "    </tr>\n",
              "    <tr>\n",
              "      <th>4</th>\n",
              "      <td>8666.744644</td>\n",
              "      <td>8901.888878</td>\n",
              "      <td>8498.784476</td>\n",
              "      <td>8733.928711</td>\n",
              "      <td>851500</td>\n",
              "    </tr>\n",
              "  </tbody>\n",
              "</table>\n",
              "</div>"
            ],
            "text/plain": [
              "          Open         High          Low        Close   Volume\n",
              "0  9741.689716  9741.689716  8297.232275  8733.928711  3094900\n",
              "1  9741.689716  9741.689716  8297.232275  8733.928711  3094900\n",
              "2  8162.861763  8599.558071  8062.085691  8532.374023   854300\n",
              "3  8364.414413  8633.150620  8364.414413  8599.558594   803200\n",
              "4  8666.744644  8901.888878  8498.784476  8733.928711   851500"
            ]
          },
          "metadata": {
            "tags": []
          },
          "execution_count": 22
        }
      ]
    },
    {
      "cell_type": "code",
      "metadata": {
        "id": "3t-H9JxBsDEM",
        "outputId": "c9ae69e1-1e03-40f5-91fb-03916b4cdb98",
        "colab": {
          "base_uri": "https://localhost:8080/",
          "height": 34
        }
      },
      "source": [
        "# NN에서는 0 ~ 1 사이의 작은 수치를 원하기 때문에 scaling 필요\n",
        "\n",
        "from sklearn.preprocessing import MinMaxScaler\n",
        "\n",
        "scaler = MinMaxScaler()\n",
        "scaled_data = scaler.fit_transform(df)\n",
        "scaled_data.min(), scaled_data.max()"
      ],
      "execution_count": 23,
      "outputs": [
        {
          "output_type": "execute_result",
          "data": {
            "text/plain": [
              "(0.0, 1.0)"
            ]
          },
          "metadata": {
            "tags": []
          },
          "execution_count": 23
        }
      ]
    },
    {
      "cell_type": "code",
      "metadata": {
        "id": "usfnZS0B3-ZH"
      },
      "source": [
        "training_size = int(len(scaled_data) * 0.7)\n",
        "test_size = len(scaled_data) - training_size\n",
        "train, test = scaled_data[:training_size], scaled_data[training_size:] # 위 라인 필요 없음"
      ],
      "execution_count": 24,
      "outputs": []
    },
    {
      "cell_type": "code",
      "metadata": {
        "id": "zo_r2zkv4kkh",
        "outputId": "ae20c83f-532a-411a-918b-30d4b7b204e7",
        "colab": {
          "base_uri": "https://localhost:8080/",
          "height": 34
        }
      },
      "source": [
        "print (train.shape, test.shape)"
      ],
      "execution_count": 25,
      "outputs": [
        {
          "output_type": "stream",
          "text": [
            "(3382, 5) (1450, 5)\n"
          ],
          "name": "stdout"
        }
      ]
    },
    {
      "cell_type": "code",
      "metadata": {
        "id": "IGUvddJbxavl"
      },
      "source": [
        "# RNN에 들어가기 위해서는 10000 x 5 ---> 9900? x 100 x 5\n",
        "\n",
        "import numpy as np\n",
        "\n",
        "X_train = []\n",
        "y_train = []\n",
        "\n",
        "for i in range(100, len(train) - 1): # 내일 자 데이터는 남겨놓아야...\n",
        "  X_train.append(train[i-100:i, :]) # 100일간의 데이터와\n",
        "  y_train.append(train[i, 3]) # 그 다음 날 종가 데이터\n",
        "\n",
        "X_train = np.array(X_train)\n",
        "y_train = np.array(y_train)  "
      ],
      "execution_count": 26,
      "outputs": []
    },
    {
      "cell_type": "code",
      "metadata": {
        "id": "PGIAgQaczGAs",
        "outputId": "07cb801e-5c4d-4058-8233-ec50df1c90bb",
        "colab": {
          "base_uri": "https://localhost:8080/",
          "height": 34
        }
      },
      "source": [
        "X_train.shape, y_train.shape # 100일치 데이터를 가지고 다음 날 예측"
      ],
      "execution_count": 27,
      "outputs": [
        {
          "output_type": "execute_result",
          "data": {
            "text/plain": [
              "((3281, 100, 5), (3281,))"
            ]
          },
          "metadata": {
            "tags": []
          },
          "execution_count": 27
        }
      ]
    },
    {
      "cell_type": "code",
      "metadata": {
        "id": "yskercDL7HVU",
        "outputId": "e7cc8ef3-4d96-4185-e693-12057e63e46f",
        "colab": {
          "base_uri": "https://localhost:8080/",
          "height": 339
        }
      },
      "source": [
        "from tensorflow.keras import models, layers\n",
        "\n",
        "model = models.Sequential()\n",
        "model.add(layers.LSTM(50, input_shape=(100, 5), dropout=0.2, recurrent_dropout=0.2, return_sequences=True))\n",
        "model.add(layers.LSTM(50, dropout=0.2, recurrent_dropout=0.2, return_sequences=True))\n",
        "model.add(layers.LSTM(50))\n",
        "model.add(layers.Dense(1))\n",
        "\n",
        "model.summary()"
      ],
      "execution_count": 51,
      "outputs": [
        {
          "output_type": "stream",
          "text": [
            "WARNING:tensorflow:Layer lstm_7 will not use cuDNN kernel since it doesn't meet the cuDNN kernel criteria. It will use generic GPU kernel as fallback when running on GPU\n",
            "WARNING:tensorflow:Layer lstm_8 will not use cuDNN kernel since it doesn't meet the cuDNN kernel criteria. It will use generic GPU kernel as fallback when running on GPU\n",
            "Model: \"sequential_5\"\n",
            "_________________________________________________________________\n",
            "Layer (type)                 Output Shape              Param #   \n",
            "=================================================================\n",
            "lstm_7 (LSTM)                (None, 100, 50)           11200     \n",
            "_________________________________________________________________\n",
            "lstm_8 (LSTM)                (None, 100, 50)           20200     \n",
            "_________________________________________________________________\n",
            "lstm_9 (LSTM)                (None, 50)                20200     \n",
            "_________________________________________________________________\n",
            "dense_1 (Dense)              (None, 1)                 51        \n",
            "=================================================================\n",
            "Total params: 51,651\n",
            "Trainable params: 51,651\n",
            "Non-trainable params: 0\n",
            "_________________________________________________________________\n"
          ],
          "name": "stdout"
        }
      ]
    },
    {
      "cell_type": "code",
      "metadata": {
        "id": "dxzKba31Tmvk",
        "outputId": "57bcd95c-f188-4130-d3cf-73cc2cf4dcae",
        "colab": {
          "base_uri": "https://localhost:8080/",
          "height": 202
        }
      },
      "source": [
        "model.compile(loss='mse', optimizer='rmsprop')\n",
        "model.fit(X_train, y_train, batch_size=64, epochs=5)"
      ],
      "execution_count": 52,
      "outputs": [
        {
          "output_type": "stream",
          "text": [
            "Epoch 1/5\n",
            "52/52 [==============================] - 36s 695ms/step - loss: 0.0036\n",
            "Epoch 2/5\n",
            "52/52 [==============================] - 36s 693ms/step - loss: 0.0012\n",
            "Epoch 3/5\n",
            "52/52 [==============================] - 35s 672ms/step - loss: 0.0011\n",
            "Epoch 4/5\n",
            "52/52 [==============================] - 36s 687ms/step - loss: 9.9239e-04\n",
            "Epoch 5/5\n",
            "52/52 [==============================] - 34s 651ms/step - loss: 8.9570e-04\n"
          ],
          "name": "stdout"
        },
        {
          "output_type": "execute_result",
          "data": {
            "text/plain": [
              "<tensorflow.python.keras.callbacks.History at 0x7ffab4852668>"
            ]
          },
          "metadata": {
            "tags": []
          },
          "execution_count": 52
        }
      ]
    },
    {
      "cell_type": "code",
      "metadata": {
        "id": "YOk52YKRU_fQ"
      },
      "source": [
        "# 위 train 구문 복사\n",
        "\n",
        "X_test = []\n",
        "y_test = []\n",
        "\n",
        "for i in range(100, len(test) - 1): # 내일 자 데이터는 남겨놓아야...\n",
        "  X_test.append(test[i-100:i, :]) # 100일간의 데이터와\n",
        "  y_test.append(test[i, 3]) # 그 다음 날 종가 데이터\n",
        "\n",
        "X_test = np.array(X_test)\n",
        "y_test = np.array(y_test) "
      ],
      "execution_count": 53,
      "outputs": []
    },
    {
      "cell_type": "code",
      "metadata": {
        "id": "hUkUJ2j8VgBv",
        "outputId": "666799ce-f8a8-422a-f67e-0cb165f320db",
        "colab": {
          "base_uri": "https://localhost:8080/",
          "height": 34
        }
      },
      "source": [
        "X_test.shape, y_test.shape"
      ],
      "execution_count": 54,
      "outputs": [
        {
          "output_type": "execute_result",
          "data": {
            "text/plain": [
              "((1349, 100, 5), (1349,))"
            ]
          },
          "metadata": {
            "tags": []
          },
          "execution_count": 54
        }
      ]
    },
    {
      "cell_type": "code",
      "metadata": {
        "id": "rI2r5XFvVlSd"
      },
      "source": [
        "predicted_train = model.predict(X_train )\n",
        "predicted_test = model.predict(X_test)"
      ],
      "execution_count": 55,
      "outputs": []
    },
    {
      "cell_type": "code",
      "metadata": {
        "id": "Zpm0wMALWCtn",
        "outputId": "2b344069-0fc5-4211-f2fb-64cf71925622",
        "colab": {
          "base_uri": "https://localhost:8080/",
          "height": 34
        }
      },
      "source": [
        "predicted_train.mean() # because scaled"
      ],
      "execution_count": 56,
      "outputs": [
        {
          "output_type": "execute_result",
          "data": {
            "text/plain": [
              "0.16164324"
            ]
          },
          "metadata": {
            "tags": []
          },
          "execution_count": 56
        }
      ]
    },
    {
      "cell_type": "code",
      "metadata": {
        "id": "7uR7rS92WHxZ"
      },
      "source": [
        "close_scaler = MinMaxScaler().fit(df['Close'].values.reshape(-1, 1))\n",
        "\n",
        "# 0 ~ 1 ---> 실제 값으로 복원\n",
        "\n",
        "predicted_train = close_scaler.inverse_transform(predicted_train)\n",
        "predicted_test = close_scaler.inverse_transform(predicted_test)"
      ],
      "execution_count": 57,
      "outputs": []
    },
    {
      "cell_type": "code",
      "metadata": {
        "id": "l8QbBOb4XN9w",
        "outputId": "f74adace-5cf5-45bd-bb5a-a0bfe6a2e316",
        "colab": {
          "base_uri": "https://localhost:8080/",
          "height": 195
        }
      },
      "source": [
        "df.head()"
      ],
      "execution_count": 58,
      "outputs": [
        {
          "output_type": "execute_result",
          "data": {
            "text/html": [
              "<div>\n",
              "<style scoped>\n",
              "    .dataframe tbody tr th:only-of-type {\n",
              "        vertical-align: middle;\n",
              "    }\n",
              "\n",
              "    .dataframe tbody tr th {\n",
              "        vertical-align: top;\n",
              "    }\n",
              "\n",
              "    .dataframe thead th {\n",
              "        text-align: right;\n",
              "    }\n",
              "</style>\n",
              "<table border=\"1\" class=\"dataframe\">\n",
              "  <thead>\n",
              "    <tr style=\"text-align: right;\">\n",
              "      <th></th>\n",
              "      <th>Open</th>\n",
              "      <th>High</th>\n",
              "      <th>Low</th>\n",
              "      <th>Close</th>\n",
              "      <th>Volume</th>\n",
              "    </tr>\n",
              "  </thead>\n",
              "  <tbody>\n",
              "    <tr>\n",
              "      <th>0</th>\n",
              "      <td>9741.689716</td>\n",
              "      <td>9741.689716</td>\n",
              "      <td>8297.232275</td>\n",
              "      <td>8733.928711</td>\n",
              "      <td>3094900</td>\n",
              "    </tr>\n",
              "    <tr>\n",
              "      <th>1</th>\n",
              "      <td>9741.689716</td>\n",
              "      <td>9741.689716</td>\n",
              "      <td>8297.232275</td>\n",
              "      <td>8733.928711</td>\n",
              "      <td>3094900</td>\n",
              "    </tr>\n",
              "    <tr>\n",
              "      <th>2</th>\n",
              "      <td>8162.861763</td>\n",
              "      <td>8599.558071</td>\n",
              "      <td>8062.085691</td>\n",
              "      <td>8532.374023</td>\n",
              "      <td>854300</td>\n",
              "    </tr>\n",
              "    <tr>\n",
              "      <th>3</th>\n",
              "      <td>8364.414413</td>\n",
              "      <td>8633.150620</td>\n",
              "      <td>8364.414413</td>\n",
              "      <td>8599.558594</td>\n",
              "      <td>803200</td>\n",
              "    </tr>\n",
              "    <tr>\n",
              "      <th>4</th>\n",
              "      <td>8666.744644</td>\n",
              "      <td>8901.888878</td>\n",
              "      <td>8498.784476</td>\n",
              "      <td>8733.928711</td>\n",
              "      <td>851500</td>\n",
              "    </tr>\n",
              "  </tbody>\n",
              "</table>\n",
              "</div>"
            ],
            "text/plain": [
              "          Open         High          Low        Close   Volume\n",
              "0  9741.689716  9741.689716  8297.232275  8733.928711  3094900\n",
              "1  9741.689716  9741.689716  8297.232275  8733.928711  3094900\n",
              "2  8162.861763  8599.558071  8062.085691  8532.374023   854300\n",
              "3  8364.414413  8633.150620  8364.414413  8599.558594   803200\n",
              "4  8666.744644  8901.888878  8498.784476  8733.928711   851500"
            ]
          },
          "metadata": {
            "tags": []
          },
          "execution_count": 58
        }
      ]
    },
    {
      "cell_type": "code",
      "metadata": {
        "id": "2R_OLIB5XRuL",
        "outputId": "a493ff4a-8735-4fc8-fd7d-b31e0a299469",
        "colab": {
          "base_uri": "https://localhost:8080/",
          "height": 34
        }
      },
      "source": [
        "predicted_test.max(), df['Close'].max() # 예측치 보기"
      ],
      "execution_count": 59,
      "outputs": [
        {
          "output_type": "execute_result",
          "data": {
            "text/plain": [
              "(562866.6, 768000.0)"
            ]
          },
          "metadata": {
            "tags": []
          },
          "execution_count": 59
        }
      ]
    },
    {
      "cell_type": "code",
      "metadata": {
        "id": "eMCahRTiXVjO",
        "outputId": "e746c351-6d7f-4bbe-afe3-e7ebe7406acb",
        "colab": {
          "base_uri": "https://localhost:8080/",
          "height": 50
        }
      },
      "source": [
        "from sklearn.metrics import mean_squared_error\n",
        "\n",
        "# 원래 값으로 되돌리기 scaled전으로\n",
        "r_y_train = close_scaler.inverse_transform(y_train.reshape(-1, 1))\n",
        "r_y_test = close_scaler.inverse_transform(y_test.reshape(-1, 1))\n",
        "\n",
        "print(np.sqrt( mean_squared_error(r_y_train, predicted_train)))\n",
        "print(np.sqrt( mean_squared_error(r_y_test, predicted_test)))"
      ],
      "execution_count": 60,
      "outputs": [
        {
          "output_type": "stream",
          "text": [
            "13417.243744275707\n",
            "39865.26875735732\n"
          ],
          "name": "stdout"
        }
      ]
    },
    {
      "cell_type": "code",
      "metadata": {
        "id": "wFPnRnWnYdze",
        "outputId": "4c6a8ef2-5071-4d1f-e360-aafdffd5e670",
        "colab": {
          "base_uri": "https://localhost:8080/",
          "height": 483
        }
      },
      "source": [
        "plt.figure(figsize=(16,8))\n",
        "plt.plot(r_y_test, label='true value')\n",
        "plt.plot(predicted_test, label='predicted value')\n",
        "plt.legend()\n",
        "plt.show()"
      ],
      "execution_count": 61,
      "outputs": [
        {
          "output_type": "display_data",
          "data": {
            "image/png": "[encoded data removed]",
            "text/plain": [
              "<Figure size 1152x576 with 1 Axes>"
            ]
          },
          "metadata": {
            "tags": [],
            "needs_background": "light"
          }
        }
      ]
    },
    {
      "cell_type": "code",
      "metadata": {
        "id": "K5P3OUuYZVYB"
      },
      "source": [
        ""
      ],
      "execution_count": null,
      "outputs": []
    }
  ]
}