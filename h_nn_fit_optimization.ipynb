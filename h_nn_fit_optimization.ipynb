{
  "nbformat": 4,
  "nbformat_minor": 0,
  "metadata": {
    "colab": {
      "name": "h.nn.fit-optimization.ipynb",
      "provenance": [],
      "collapsed_sections": [],
      "authorship_tag": "ABX9TyO19/6YkMCP39Qnq+1bo2FM",
      "include_colab_link": true
    },
    "kernelspec": {
      "name": "python3",
      "display_name": "Python 3"
    },
    "accelerator": "GPU"
  },
  "cells": [
    {
      "cell_type": "markdown",
      "metadata": {
        "id": "view-in-github",
        "colab_type": "text"
      },
      "source": [
        "<a href=\"https://colab.research.google.com/github/sychun/colab/blob/master/h_nn_fit_optimization.ipynb\" target=\"_parent\"><img src=\"https://colab.research.google.com/assets/colab-badge.svg\" alt=\"Open In Colab\"/></a>"
      ]
    },
    {
      "cell_type": "code",
      "metadata": {
        "id": "YrKz5lRRNbV6",
        "colab_type": "code",
        "colab": {}
      },
      "source": [
        "import tensorflow as tf\n",
        "import tensorflow.keras as keras\n",
        "from tensorflow.keras import models, layers\n",
        "from tensorflow.keras.utils import to_categorical"
      ],
      "execution_count": 13,
      "outputs": []
    },
    {
      "cell_type": "code",
      "metadata": {
        "id": "uXZ6bQL0OEPV",
        "colab_type": "code",
        "colab": {}
      },
      "source": [
        "(train_X, train_y), (test_X, test_y) = keras.datasets.mnist.load_data()\n",
        "\n",
        "train_X = train_X.reshape((60000, 28 * 28))\n",
        "train_X = train_X.astype('float') / 255\n",
        "\n",
        "test_X = test_X.reshape((10000, 28 * 28))\n",
        "test_X = test_X.astype('float') / 255\n",
        "\n",
        "train_y = to_categorical(train_y) # one-hot-encoding\n",
        "test_y = to_categorical(test_y)"
      ],
      "execution_count": 14,
      "outputs": []
    },
    {
      "cell_type": "code",
      "metadata": {
        "id": "7cbAlN5cOVdt",
        "colab_type": "code",
        "colab": {}
      },
      "source": [
        "# network = models.Sequential()\n",
        "# network.add(layers.Dense(512, input_shape=(28 * 28, ), activation='relu'))\n",
        "# network.add(layers.Dense(512, activation='relu'))\n",
        "# network.add(layers.Dense(10, activation='softmax'))\n",
        "# network.compile(loss='categorical_crossentropy', optimizer='rmsprop', metrics=['accuracy'])"
      ],
      "execution_count": 15,
      "outputs": []
    },
    {
      "cell_type": "code",
      "metadata": {
        "id": "bpV19OrXOdQ8",
        "colab_type": "code",
        "colab": {}
      },
      "source": [
        "# network.compile(loss='categorical_crossentropy', optimizer='rmsprop', metrics=['accuracy'])"
      ],
      "execution_count": 16,
      "outputs": []
    },
    {
      "cell_type": "code",
      "metadata": {
        "id": "6bV2PVaFQQZY",
        "colab_type": "code",
        "colab": {}
      },
      "source": [
        "# weight initialization\n",
        "# ReLU 를 활성함수로 사용하는 경우 He 초기값을 사용하는 것이 좋음\n",
        "# network = models.Sequential()\n",
        "# network.add(layers.Dense(512, input_shape=(28 * 28, ), activation='relu', kernel_initializer=keras.initializers.he_normal()))\n",
        "# network.add(layers.Dense(512, activation='relu', kernel_initializer=keras.initializers.he_normal()))\n",
        "# network.add(layers.Dense(10, activation='softmax'))\n",
        "# network.compile(loss='categorical_crossentropy', optimizer='rmsprop', metrics=['accuracy'])"
      ],
      "execution_count": 17,
      "outputs": []
    },
    {
      "cell_type": "code",
      "metadata": {
        "id": "pKYarIaYU9tE",
        "colab_type": "code",
        "colab": {}
      },
      "source": [
        "# Batch initialization\n",
        "network = models.Sequential()\n",
        "network.add(layers.Dense(512, input_shape=(28 * 28, ), activation='relu'))\n",
        "network.add(layers.BatchNormalization())\n",
        "network.add(layers.Dense(512, activation='relu'))\n",
        "network.add(layers.Dense(10, activation='softmax'))\n",
        "network.compile(loss='categorical_crossentropy', optimizer='rmsprop', metrics=['accuracy'])"
      ],
      "execution_count": 19,
      "outputs": []
    },
    {
      "cell_type": "code",
      "metadata": {
        "id": "lwwXOO1aOdKL",
        "colab_type": "code",
        "colab": {
          "base_uri": "https://localhost:8080/",
          "height": 202
        },
        "outputId": "e72748ae-5100-4b5b-8192-aafa89a44e79"
      },
      "source": [
        "network.fit(train_X, train_y, epochs=5, batch_size=128)"
      ],
      "execution_count": 20,
      "outputs": [
        {
          "output_type": "stream",
          "text": [
            "Epoch 1/5\n",
            "469/469 [==============================] - 2s 4ms/step - loss: 0.1671 - accuracy: 0.9495\n",
            "Epoch 2/5\n",
            "469/469 [==============================] - 2s 4ms/step - loss: 0.0742 - accuracy: 0.9779\n",
            "Epoch 3/5\n",
            "469/469 [==============================] - 2s 4ms/step - loss: 0.0519 - accuracy: 0.9843\n",
            "Epoch 4/5\n",
            "469/469 [==============================] - 2s 4ms/step - loss: 0.0382 - accuracy: 0.9883\n",
            "Epoch 5/5\n",
            "469/469 [==============================] - 2s 4ms/step - loss: 0.0306 - accuracy: 0.9911\n"
          ],
          "name": "stdout"
        },
        {
          "output_type": "execute_result",
          "data": {
            "text/plain": [
              "<tensorflow.python.keras.callbacks.History at 0x7fc14b6c9ac8>"
            ]
          },
          "metadata": {
            "tags": []
          },
          "execution_count": 20
        }
      ]
    },
    {
      "cell_type": "code",
      "metadata": {
        "id": "H_W85YuMU3i8",
        "colab_type": "code",
        "colab": {}
      },
      "source": [
        ""
      ],
      "execution_count": null,
      "outputs": []
    },
    {
      "cell_type": "code",
      "metadata": {
        "id": "6kVusxhGU40C",
        "colab_type": "code",
        "colab": {}
      },
      "source": [
        ""
      ],
      "execution_count": null,
      "outputs": []
    }
  ]
}