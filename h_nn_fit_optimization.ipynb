{
  "nbformat": 4,
  "nbformat_minor": 0,
  "metadata": {
    "colab": {
      "name": "h.nn.fit-optimization.ipynb",
      "provenance": [],
      "collapsed_sections": [],
      "authorship_tag": "ABX9TyPuOhFaEL8by9audzjqfxHe",
      "include_colab_link": true
    },
    "kernelspec": {
      "name": "python3",
      "display_name": "Python 3"
    },
    "accelerator": "GPU"
  },
  "cells": [
    {
      "cell_type": "markdown",
      "metadata": {
        "id": "view-in-github",
        "colab_type": "text"
      },
      "source": [
        "<a href=\"https://colab.research.google.com/github/sychun/colab/blob/master/h_nn_fit_optimization.ipynb\" target=\"_parent\"><img src=\"https://colab.research.google.com/assets/colab-badge.svg\" alt=\"Open In Colab\"/></a>"
      ]
    },
    {
      "cell_type": "code",
      "metadata": {
        "id": "YrKz5lRRNbV6",
        "colab_type": "code",
        "colab": {}
      },
      "source": [
        "import tensorflow as tf\n",
        "import tensorflow.keras as keras\n",
        "from tensorflow.keras import models, layers\n",
        "from tensorflow.keras.utils import to_categorical"
      ],
      "execution_count": 13,
      "outputs": []
    },
    {
      "cell_type": "code",
      "metadata": {
        "id": "uXZ6bQL0OEPV",
        "colab_type": "code",
        "colab": {}
      },
      "source": [
        "(train_X, train_y), (test_X, test_y) = keras.datasets.mnist.load_data()\n",
        "\n",
        "train_X = train_X.reshape((60000, 28 * 28))\n",
        "train_X = train_X.astype('float') / 255\n",
        "\n",
        "test_X = test_X.reshape((10000, 28 * 28))\n",
        "test_X = test_X.astype('float') / 255\n",
        "\n",
        "train_y = to_categorical(train_y) # one-hot-encoding\n",
        "test_y = to_categorical(test_y)"
      ],
      "execution_count": 14,
      "outputs": []
    },
    {
      "cell_type": "code",
      "metadata": {
        "id": "7cbAlN5cOVdt",
        "colab_type": "code",
        "colab": {}
      },
      "source": [
        "# network = models.Sequential()\n",
        "# network.add(layers.Dense(512, input_shape=(28 * 28, ), activation='relu'))\n",
        "# network.add(layers.Dense(512, activation='relu'))\n",
        "# network.add(layers.Dense(10, activation='softmax'))\n",
        "# network.compile(loss='categorical_crossentropy', optimizer='rmsprop', metrics=['accuracy'])"
      ],
      "execution_count": 15,
      "outputs": []
    },
    {
      "cell_type": "code",
      "metadata": {
        "id": "bpV19OrXOdQ8",
        "colab_type": "code",
        "colab": {}
      },
      "source": [
        "# network.compile(loss='categorical_crossentropy', optimizer='rmsprop', metrics=['accuracy'])"
      ],
      "execution_count": 16,
      "outputs": []
    },
    {
      "cell_type": "code",
      "metadata": {
        "id": "6bV2PVaFQQZY",
        "colab_type": "code",
        "colab": {}
      },
      "source": [
        "# weight initialization\n",
        "# ReLU 를 활성함수로 사용하는 경우 He 초기값을 사용하는 것이 좋음\n",
        "# network = models.Sequential()\n",
        "# network.add(layers.Dense(512, input_shape=(28 * 28, ), activation='relu', kernel_initializer=keras.initializers.he_normal()))\n",
        "# network.add(layers.Dense(512, activation='relu', kernel_initializer=keras.initializers.he_normal()))\n",
        "# network.add(layers.Dense(10, activation='softmax'))\n",
        "# network.compile(loss='categorical_crossentropy', optimizer='rmsprop', metrics=['accuracy'])"
      ],
      "execution_count": 17,
      "outputs": []
    },
    {
      "cell_type": "code",
      "metadata": {
        "id": "pKYarIaYU9tE",
        "colab_type": "code",
        "colab": {}
      },
      "source": [
        "# Batch initialization\n",
        "# network = models.Sequential()\n",
        "# network.add(layers.Dense(512, input_shape=(28 * 28, ), activation='relu'))\n",
        "# network.add(layers.BatchNormalization())\n",
        "# network.add(layers.Dense(512, activation='relu'))\n",
        "# network.add(layers.Dense(10, activation='softmax'))\n",
        "# network.compile(loss='categorical_crossentropy', optimizer='rmsprop', metrics=['accuracy'])"
      ],
      "execution_count": 19,
      "outputs": []
    },
    {
      "cell_type": "code",
      "metadata": {
        "id": "pTUoOrZmgh95",
        "colab_type": "code",
        "colab": {}
      },
      "source": [
        "# # Momentum initialization: SGD, Momentum, NAG (nesterov)\n",
        "# network = models.Sequential()\n",
        "# network.add(layers.Dense(512, input_shape=(28 * 28, ), activation='relu'))\n",
        "# network.add(layers.Dense(512, activation='relu'))\n",
        "# network.add(layers.Dense(10, activation='softmax'))\n",
        "# network.compile(loss='categorical_crossentropy', optimizer=keras.optimizers.SGD(learning_rate=0.1, momentum=0.9, nesterov=True), metrics=['accuracy'])"
      ],
      "execution_count": 25,
      "outputs": []
    },
    {
      "cell_type": "code",
      "metadata": {
        "id": "fNjuYjA8lAUn",
        "colab_type": "code",
        "colab": {}
      },
      "source": [
        "# Momentum initialization: Adagrad, RMSprop, Adam\n",
        "network = models.Sequential()\n",
        "network.add(layers.Dense(512, input_shape=(28 * 28, ), activation='relu'))\n",
        "network.add(layers.Dense(512, activation='relu'))\n",
        "network.add(layers.Dense(10, activation='softmax'))\n",
        "# network.compile(loss='categorical_crossentropy', optimizer=keras.optimizers.Adagrad(learning_rate=0.01), metrics=['accuracy'])\n",
        "# network.compile(loss='categorical_crossentropy', optimizer=keras.optimizers.RMSprop(learning_rate=0.01), metrics=['accuracy'])\n",
        "network.compile(loss='categorical_crossentropy', optimizer=keras.optimizers.Adam(learning_rate=0.01), metrics=['accuracy'])"
      ],
      "execution_count": 39,
      "outputs": []
    },
    {
      "cell_type": "code",
      "metadata": {
        "id": "lwwXOO1aOdKL",
        "colab_type": "code",
        "colab": {
          "base_uri": "https://localhost:8080/",
          "height": 202
        },
        "outputId": "a00cadfa-0b47-478a-d1d8-c8ad70238386"
      },
      "source": [
        "network.fit(train_X, train_y, epochs=5, batch_size=128)"
      ],
      "execution_count": 40,
      "outputs": [
        {
          "output_type": "stream",
          "text": [
            "Epoch 1/5\n",
            "469/469 [==============================] - 1s 3ms/step - loss: 0.2539 - accuracy: 0.9255\n",
            "Epoch 2/5\n",
            "469/469 [==============================] - 1s 3ms/step - loss: 0.1380 - accuracy: 0.9607\n",
            "Epoch 3/5\n",
            "469/469 [==============================] - 1s 3ms/step - loss: 0.1160 - accuracy: 0.9678\n",
            "Epoch 4/5\n",
            "469/469 [==============================] - 1s 3ms/step - loss: 0.1101 - accuracy: 0.9699\n",
            "Epoch 5/5\n",
            "469/469 [==============================] - 1s 3ms/step - loss: 0.0947 - accuracy: 0.9735\n"
          ],
          "name": "stdout"
        },
        {
          "output_type": "execute_result",
          "data": {
            "text/plain": [
              "<tensorflow.python.keras.callbacks.History at 0x7fc144438fd0>"
            ]
          },
          "metadata": {
            "tags": []
          },
          "execution_count": 40
        }
      ]
    },
    {
      "cell_type": "code",
      "metadata": {
        "id": "H_W85YuMU3i8",
        "colab_type": "code",
        "colab": {}
      },
      "source": [
        ""
      ],
      "execution_count": null,
      "outputs": []
    }
  ]
}