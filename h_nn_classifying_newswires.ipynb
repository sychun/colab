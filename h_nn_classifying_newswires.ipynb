{
  "nbformat": 4,
  "nbformat_minor": 0,
  "metadata": {
    "kernelspec": {
      "display_name": "Python 3",
      "language": "python",
      "name": "python3"
    },
    "language_info": {
      "codemirror_mode": {
        "name": "ipython",
        "version": 3
      },
      "file_extension": ".py",
      "mimetype": "text/x-python",
      "name": "python",
      "nbconvert_exporter": "python",
      "pygments_lexer": "ipython3",
      "version": "3.6.10"
    },
    "colab": {
      "name": "h.nn.classifying-newswires.ipynb",
      "provenance": [],
      "include_colab_link": true
    }
  },
  "cells": [
    {
      "cell_type": "markdown",
      "metadata": {
        "id": "view-in-github",
        "colab_type": "text"
      },
      "source": [
        "<a href=\"https://colab.research.google.com/github/sychun/colab/blob/master/h_nn_classifying_newswires.ipynb\" target=\"_parent\"><img src=\"https://colab.research.google.com/assets/colab-badge.svg\" alt=\"Open In Colab\"/></a>"
      ]
    },
    {
      "cell_type": "code",
      "metadata": {
        "id": "w4YpOrmeW-c2",
        "colab_type": "code",
        "colab": {}
      },
      "source": [
        "import tensorflow as tf\n",
        "import tensorflow.keras as keras\n",
        "from tensorflow.keras.datasets import reuters\n",
        "\n",
        "(train_data, train_labels), (test_data, test_labels) = reuters.load_data(num_words=10000)"
      ],
      "execution_count": 2,
      "outputs": []
    },
    {
      "cell_type": "code",
      "metadata": {
        "id": "Q1tZF4BYW-dB",
        "colab_type": "code",
        "colab": {
          "base_uri": "https://localhost:8080/",
          "height": 34
        },
        "outputId": "57d57be4-a794-4e3b-b5a3-a7fc5a33adc0"
      },
      "source": [
        "len(train_data), type(train_data)"
      ],
      "execution_count": 4,
      "outputs": [
        {
          "output_type": "execute_result",
          "data": {
            "text/plain": [
              "(8982, numpy.ndarray)"
            ]
          },
          "metadata": {
            "tags": []
          },
          "execution_count": 4
        }
      ]
    },
    {
      "cell_type": "code",
      "metadata": {
        "id": "jKYA50eFW-dK",
        "colab_type": "code",
        "colab": {
          "base_uri": "https://localhost:8080/",
          "height": 34
        },
        "outputId": "b49426a8-f1a1-4289-b2ff-ab2c79c97ab6"
      },
      "source": [
        "len(test_data)"
      ],
      "execution_count": 5,
      "outputs": [
        {
          "output_type": "execute_result",
          "data": {
            "text/plain": [
              "2246"
            ]
          },
          "metadata": {
            "tags": []
          },
          "execution_count": 5
        }
      ]
    },
    {
      "cell_type": "code",
      "metadata": {
        "id": "jnz7R9jDW-dN",
        "colab_type": "code",
        "colab": {
          "base_uri": "https://localhost:8080/",
          "height": 34
        },
        "outputId": "edb6af93-415f-4c7a-94aa-b74ce6061fa6"
      },
      "source": [
        "train_data[10][:10], train_labels[10]"
      ],
      "execution_count": 8,
      "outputs": [
        {
          "output_type": "execute_result",
          "data": {
            "text/plain": [
              "([1, 245, 273, 207, 156, 53, 74, 160, 26, 14], 3)"
            ]
          },
          "metadata": {
            "tags": []
          },
          "execution_count": 8
        }
      ]
    },
    {
      "cell_type": "code",
      "metadata": {
        "id": "cet3lx3tW-dR",
        "colab_type": "code",
        "colab": {
          "base_uri": "https://localhost:8080/",
          "height": 50
        },
        "outputId": "967ce847-9e80-4b37-f380-632ad03c4f08"
      },
      "source": [
        "word_index = reuters.get_word_index()\n",
        "reverse_word_index = dict([(value, key) for (key, value) in word_index.items()])\n",
        "# 0, 1, 2는 '패딩', '문서 시작', '사전에 없음'을 위한 인덱스이므로 3을 뺍니다\n",
        "decoded_newswire = ' '.join([reverse_word_index.get(i - 3, '?') for i in train_data[0]])"
      ],
      "execution_count": 9,
      "outputs": [
        {
          "output_type": "stream",
          "text": [
            "Downloading data from https://storage.googleapis.com/tensorflow/tf-keras-datasets/reuters_word_index.json\n",
            "557056/550378 [==============================] - 0s 0us/step\n"
          ],
          "name": "stdout"
        }
      ]
    },
    {
      "cell_type": "code",
      "metadata": {
        "id": "-HlvuGEIW-dU",
        "colab_type": "code",
        "colab": {
          "base_uri": "https://localhost:8080/",
          "height": 69
        },
        "outputId": "29136111-c257-403c-e298-ca9bc04b3f1a"
      },
      "source": [
        "decoded_newswire"
      ],
      "execution_count": 10,
      "outputs": [
        {
          "output_type": "execute_result",
          "data": {
            "application/vnd.google.colaboratory.intrinsic+json": {
              "type": "string"
            },
            "text/plain": [
              "'? ? ? said as a result of its december acquisition of space co it expects earnings per share in 1987 of 1 15 to 1 30 dlrs per share up from 70 cts in 1986 the company said pretax net should rise to nine to 10 mln dlrs from six mln dlrs in 1986 and rental operation revenues to 19 to 22 mln dlrs from 12 5 mln dlrs it said cash flow per share this year should be 2 50 to three dlrs reuter 3'"
            ]
          },
          "metadata": {
            "tags": []
          },
          "execution_count": 10
        }
      ]
    },
    {
      "cell_type": "code",
      "metadata": {
        "id": "kR6C5UoJW-dY",
        "colab_type": "code",
        "colab": {
          "base_uri": "https://localhost:8080/",
          "height": 34
        },
        "outputId": "a560a541-ef72-4e74-c419-c8c41fb7e3f5"
      },
      "source": [
        "train_labels[10]"
      ],
      "execution_count": 11,
      "outputs": [
        {
          "output_type": "execute_result",
          "data": {
            "text/plain": [
              "3"
            ]
          },
          "metadata": {
            "tags": []
          },
          "execution_count": 11
        }
      ]
    },
    {
      "cell_type": "code",
      "metadata": {
        "id": "TAEFdGH6W-dc",
        "colab_type": "code",
        "colab": {}
      },
      "source": [
        "import numpy as np\n",
        "\n",
        "def vectorize_sequences(sequences, dimension=10000):\n",
        "    results = np.zeros((len(sequences), dimension))\n",
        "    for i, sequence in enumerate(sequences):\n",
        "        results[i, sequence] = 1.\n",
        "    return results\n",
        "\n",
        "# 훈련 데이터 벡터 변환\n",
        "x_train = vectorize_sequences(train_data)\n",
        "# 테스트 데이터 벡터 변환\n",
        "x_test = vectorize_sequences(test_data)"
      ],
      "execution_count": 12,
      "outputs": []
    },
    {
      "cell_type": "code",
      "metadata": {
        "id": "8pE7wA69Yxik",
        "colab_type": "code",
        "colab": {
          "base_uri": "https://localhost:8080/",
          "height": 34
        },
        "outputId": "1de59f40-c9eb-46d6-e915-6fddff1b81d5"
      },
      "source": [
        "train_labels.min(),train_labels.max()"
      ],
      "execution_count": 16,
      "outputs": [
        {
          "output_type": "execute_result",
          "data": {
            "text/plain": [
              "(0, 45)"
            ]
          },
          "metadata": {
            "tags": []
          },
          "execution_count": 16
        }
      ]
    },
    {
      "cell_type": "code",
      "metadata": {
        "id": "JgE4fwRmW-df",
        "colab_type": "code",
        "colab": {}
      },
      "source": [
        "def to_one_hot(labels, dimension=46):\n",
        "    results = np.zeros((len(labels), dimension))\n",
        "    for i, label in enumerate(labels):\n",
        "        results[i, label] = 1.\n",
        "    return results\n",
        "\n",
        "# 훈련 레이블 벡터 변환\n",
        "one_hot_train_labels = to_one_hot(train_labels)\n",
        "# 테스트 레이블 벡터 변환\n",
        "one_hot_test_labels = to_one_hot(test_labels)"
      ],
      "execution_count": 17,
      "outputs": []
    },
    {
      "cell_type": "code",
      "metadata": {
        "id": "SirXnL6zZHgs",
        "colab_type": "code",
        "colab": {
          "base_uri": "https://localhost:8080/",
          "height": 84
        },
        "outputId": "bb468f74-5cf4-4af2-84b3-976eb241054e"
      },
      "source": [
        "one_hot_train_labels[:1]"
      ],
      "execution_count": 20,
      "outputs": [
        {
          "output_type": "execute_result",
          "data": {
            "text/plain": [
              "array([[0., 0., 0., 1., 0., 0., 0., 0., 0., 0., 0., 0., 0., 0., 0., 0.,\n",
              "        0., 0., 0., 0., 0., 0., 0., 0., 0., 0., 0., 0., 0., 0., 0., 0.,\n",
              "        0., 0., 0., 0., 0., 0., 0., 0., 0., 0., 0., 0., 0., 0.]],\n",
              "      dtype=float32)"
            ]
          },
          "metadata": {
            "tags": []
          },
          "execution_count": 20
        }
      ]
    },
    {
      "cell_type": "code",
      "metadata": {
        "id": "1Vv3DR6cW-dj",
        "colab_type": "code",
        "colab": {}
      },
      "source": [
        "from tensorflow.keras.utils import to_categorical\n",
        "\n",
        "one_hot_train_labels = to_categorical(train_labels)\n",
        "one_hot_test_labels = to_categorical(test_labels)"
      ],
      "execution_count": 18,
      "outputs": []
    },
    {
      "cell_type": "code",
      "metadata": {
        "id": "ciJgPckaW-dm",
        "colab_type": "code",
        "colab": {}
      },
      "source": [
        "from tensorflow.keras import models\n",
        "from tensorflow.keras import layers\n",
        "\n",
        "model = models.Sequential()\n",
        "model.add(layers.Dense(64, activation='relu', input_shape=(10000,)))\n",
        "model.add(layers.Dense(64, activation='relu'))\n",
        "model.add(layers.Dense(46, activation='softmax'))"
      ],
      "execution_count": 21,
      "outputs": []
    },
    {
      "cell_type": "code",
      "metadata": {
        "id": "tf-P9xrfW-dp",
        "colab_type": "code",
        "colab": {}
      },
      "source": [
        "model.compile(optimizer='rmsprop',\n",
        "              loss='categorical_crossentropy',\n",
        "              metrics=['accuracy'])"
      ],
      "execution_count": 22,
      "outputs": []
    },
    {
      "cell_type": "code",
      "metadata": {
        "id": "Hg4W0oqCW-dr",
        "colab_type": "code",
        "colab": {}
      },
      "source": [
        "x_val = x_train[:1000]\n",
        "partial_x_train = x_train[1000:]\n",
        "\n",
        "y_val = one_hot_train_labels[:1000]\n",
        "partial_y_train = one_hot_train_labels[1000:]"
      ],
      "execution_count": 23,
      "outputs": []
    },
    {
      "cell_type": "code",
      "metadata": {
        "id": "DR3WuDojW-du",
        "colab_type": "code",
        "colab": {
          "base_uri": "https://localhost:8080/",
          "height": 689
        },
        "outputId": "53370051-0d7c-4d53-9470-61749cc67167"
      },
      "source": [
        "history = model.fit(partial_x_train,\n",
        "                    partial_y_train,\n",
        "                    epochs=20,\n",
        "                    batch_size=512,\n",
        "                    validation_data=(x_val, y_val))"
      ],
      "execution_count": 24,
      "outputs": [
        {
          "output_type": "stream",
          "text": [
            "Epoch 1/20\n",
            "16/16 [==============================] - 1s 58ms/step - loss: 2.6594 - accuracy: 0.4956 - val_loss: 1.7029 - val_accuracy: 0.6460\n",
            "Epoch 2/20\n",
            "16/16 [==============================] - 1s 45ms/step - loss: 1.4017 - accuracy: 0.7112 - val_loss: 1.3081 - val_accuracy: 0.7120\n",
            "Epoch 3/20\n",
            "16/16 [==============================] - 1s 43ms/step - loss: 1.0387 - accuracy: 0.7785 - val_loss: 1.1301 - val_accuracy: 0.7630\n",
            "Epoch 4/20\n",
            "16/16 [==============================] - 1s 44ms/step - loss: 0.8090 - accuracy: 0.8289 - val_loss: 1.0450 - val_accuracy: 0.7680\n",
            "Epoch 5/20\n",
            "16/16 [==============================] - 1s 45ms/step - loss: 0.6470 - accuracy: 0.8613 - val_loss: 0.9821 - val_accuracy: 0.7920\n",
            "Epoch 6/20\n",
            "16/16 [==============================] - 1s 43ms/step - loss: 0.5191 - accuracy: 0.8879 - val_loss: 0.9330 - val_accuracy: 0.8090\n",
            "Epoch 7/20\n",
            "16/16 [==============================] - 1s 44ms/step - loss: 0.4167 - accuracy: 0.9085 - val_loss: 0.9131 - val_accuracy: 0.8140\n",
            "Epoch 8/20\n",
            "16/16 [==============================] - 1s 43ms/step - loss: 0.3429 - accuracy: 0.9253 - val_loss: 0.9043 - val_accuracy: 0.8140\n",
            "Epoch 9/20\n",
            "16/16 [==============================] - 1s 43ms/step - loss: 0.2832 - accuracy: 0.9391 - val_loss: 0.9160 - val_accuracy: 0.8200\n",
            "Epoch 10/20\n",
            "16/16 [==============================] - 1s 43ms/step - loss: 0.2418 - accuracy: 0.9441 - val_loss: 0.9088 - val_accuracy: 0.8220\n",
            "Epoch 11/20\n",
            "16/16 [==============================] - 1s 43ms/step - loss: 0.2071 - accuracy: 0.9501 - val_loss: 1.0274 - val_accuracy: 0.7870\n",
            "Epoch 12/20\n",
            "16/16 [==============================] - 1s 43ms/step - loss: 0.1857 - accuracy: 0.9514 - val_loss: 0.9466 - val_accuracy: 0.8190\n",
            "Epoch 13/20\n",
            "16/16 [==============================] - 1s 43ms/step - loss: 0.1630 - accuracy: 0.9509 - val_loss: 0.9636 - val_accuracy: 0.8160\n",
            "Epoch 14/20\n",
            "16/16 [==============================] - 1s 43ms/step - loss: 0.1503 - accuracy: 0.9545 - val_loss: 0.9868 - val_accuracy: 0.8170\n",
            "Epoch 15/20\n",
            "16/16 [==============================] - 1s 44ms/step - loss: 0.1393 - accuracy: 0.9544 - val_loss: 1.0557 - val_accuracy: 0.8070\n",
            "Epoch 16/20\n",
            "16/16 [==============================] - 1s 43ms/step - loss: 0.1340 - accuracy: 0.9559 - val_loss: 1.0273 - val_accuracy: 0.8090\n",
            "Epoch 17/20\n",
            "16/16 [==============================] - 1s 43ms/step - loss: 0.1226 - accuracy: 0.9565 - val_loss: 1.0394 - val_accuracy: 0.8040\n",
            "Epoch 18/20\n",
            "16/16 [==============================] - 1s 43ms/step - loss: 0.1195 - accuracy: 0.9578 - val_loss: 1.1190 - val_accuracy: 0.7950\n",
            "Epoch 19/20\n",
            "16/16 [==============================] - 1s 45ms/step - loss: 0.1171 - accuracy: 0.9565 - val_loss: 1.0496 - val_accuracy: 0.8100\n",
            "Epoch 20/20\n",
            "16/16 [==============================] - 1s 42ms/step - loss: 0.1118 - accuracy: 0.9584 - val_loss: 1.1071 - val_accuracy: 0.8120\n"
          ],
          "name": "stdout"
        }
      ]
    },
    {
      "cell_type": "code",
      "metadata": {
        "id": "pMtTFQUOW-dy",
        "colab_type": "code",
        "colab": {}
      },
      "source": [
        "import matplotlib.pyplot as plt"
      ],
      "execution_count": 25,
      "outputs": []
    },
    {
      "cell_type": "code",
      "metadata": {
        "id": "Nc1mCEJGW-d0",
        "colab_type": "code",
        "colab": {
          "base_uri": "https://localhost:8080/",
          "height": 295
        },
        "outputId": "d38679ae-5a98-47b3-81e7-f981bb9bbe2d"
      },
      "source": [
        "loss = history.history['loss']\n",
        "val_loss = history.history['val_loss']\n",
        "\n",
        "epochs = range(1, len(loss) + 1)\n",
        "\n",
        "plt.plot(epochs, loss, 'bo', label='Training loss')\n",
        "plt.plot(epochs, val_loss, 'b', label='Validation loss')\n",
        "plt.title('Training and validation loss')\n",
        "plt.xlabel('Epochs')\n",
        "plt.ylabel('Loss')\n",
        "plt.legend()\n",
        "\n",
        "plt.show()"
      ],
      "execution_count": 26,
      "outputs": [
        {
          "output_type": "display_data",
          "data": {
            "image/png": "[encoded data removed]",
            "text/plain": [
              "<Figure size 432x288 with 1 Axes>"
            ]
          },
          "metadata": {
            "tags": [],
            "needs_background": "light"
          }
        }
      ]
    },
    {
      "cell_type": "code",
      "metadata": {
        "id": "upL_Nme0W-d3",
        "colab_type": "code",
        "colab": {
          "base_uri": "https://localhost:8080/",
          "height": 295
        },
        "outputId": "37af3790-4949-4bbd-f0ae-29585f75c254"
      },
      "source": [
        "plt.clf()   # 그래프를 초기화합니다\n",
        "\n",
        "acc = history.history['accuracy']\n",
        "val_acc = history.history['val_accuracy']\n",
        "\n",
        "plt.plot(epochs, acc, 'bo', label='Training acc')\n",
        "plt.plot(epochs, val_acc, 'b', label='Validation acc')\n",
        "plt.title('Training and validation accuracy')\n",
        "plt.xlabel('Epochs')\n",
        "plt.ylabel('Accuracy')\n",
        "plt.legend()\n",
        "\n",
        "plt.show()"
      ],
      "execution_count": 28,
      "outputs": [
        {
          "output_type": "display_data",
          "data": {
            "image/png": "[encoded data removed]",
            "text/plain": [
              "<Figure size 432x288 with 1 Axes>"
            ]
          },
          "metadata": {
            "tags": [],
            "needs_background": "light"
          }
        }
      ]
    },
    {
      "cell_type": "code",
      "metadata": {
        "id": "DvLwCU_CW-d5",
        "colab_type": "code",
        "colab": {
          "base_uri": "https://localhost:8080/",
          "height": 336
        },
        "outputId": "6e133ebe-04e3-4f38-9689-e9275e09c976"
      },
      "source": [
        "model = models.Sequential()\n",
        "model.add(layers.Dense(64, activation='relu', input_shape=(10000,)))\n",
        "model.add(layers.Dense(64, activation='relu'))\n",
        "model.add(layers.Dense(46, activation='softmax'))\n",
        "\n",
        "model.compile(optimizer='rmsprop',\n",
        "              loss='categorical_crossentropy',\n",
        "              metrics=['accuracy'])\n",
        "model.fit(partial_x_train,\n",
        "          partial_y_train,\n",
        "          epochs=9,\n",
        "          batch_size=512,\n",
        "          validation_data=(x_val, y_val))\n",
        "results = model.evaluate(x_test, one_hot_test_labels)"
      ],
      "execution_count": 29,
      "outputs": [
        {
          "output_type": "stream",
          "text": [
            "Epoch 1/9\n",
            "16/16 [==============================] - 1s 52ms/step - loss: 2.6940 - accuracy: 0.5340 - val_loss: 1.7655 - val_accuracy: 0.6360\n",
            "Epoch 2/9\n",
            "16/16 [==============================] - 1s 44ms/step - loss: 1.4433 - accuracy: 0.7071 - val_loss: 1.3107 - val_accuracy: 0.7280\n",
            "Epoch 3/9\n",
            "16/16 [==============================] - 1s 43ms/step - loss: 1.0510 - accuracy: 0.7751 - val_loss: 1.1295 - val_accuracy: 0.7570\n",
            "Epoch 4/9\n",
            "16/16 [==============================] - 1s 43ms/step - loss: 0.8237 - accuracy: 0.8287 - val_loss: 1.0310 - val_accuracy: 0.7830\n",
            "Epoch 5/9\n",
            "16/16 [==============================] - 1s 44ms/step - loss: 0.6521 - accuracy: 0.8672 - val_loss: 0.9706 - val_accuracy: 0.7990\n",
            "Epoch 6/9\n",
            "16/16 [==============================] - 1s 44ms/step - loss: 0.5192 - accuracy: 0.8948 - val_loss: 0.9339 - val_accuracy: 0.8150\n",
            "Epoch 7/9\n",
            "16/16 [==============================] - 1s 43ms/step - loss: 0.4206 - accuracy: 0.9146 - val_loss: 0.9301 - val_accuracy: 0.8100\n",
            "Epoch 8/9\n",
            "16/16 [==============================] - 1s 43ms/step - loss: 0.3450 - accuracy: 0.9272 - val_loss: 0.9218 - val_accuracy: 0.8080\n",
            "Epoch 9/9\n",
            "16/16 [==============================] - 1s 43ms/step - loss: 0.2892 - accuracy: 0.9364 - val_loss: 0.9039 - val_accuracy: 0.8190\n",
            "71/71 [==============================] - 0s 3ms/step - loss: 0.9943 - accuracy: 0.7867\n"
          ],
          "name": "stdout"
        }
      ]
    },
    {
      "cell_type": "code",
      "metadata": {
        "id": "ca4iwKr0W-d-",
        "colab_type": "code",
        "colab": {
          "base_uri": "https://localhost:8080/",
          "height": 34
        },
        "outputId": "ea8c586f-d397-4b44-89e5-ec123971df0e"
      },
      "source": [
        "results"
      ],
      "execution_count": 30,
      "outputs": [
        {
          "output_type": "execute_result",
          "data": {
            "text/plain": [
              "[0.9943209290504456, 0.7867319583892822]"
            ]
          },
          "metadata": {
            "tags": []
          },
          "execution_count": 30
        }
      ]
    },
    {
      "cell_type": "code",
      "metadata": {
        "id": "PYdxqGpCW-eB",
        "colab_type": "code",
        "colab": {}
      },
      "source": [
        "predictions = model.predict(x_test)"
      ],
      "execution_count": 31,
      "outputs": []
    },
    {
      "cell_type": "code",
      "metadata": {
        "id": "gMVqrtJuW-eD",
        "colab_type": "code",
        "colab": {
          "base_uri": "https://localhost:8080/",
          "height": 34
        },
        "outputId": "e42c3157-2e21-445d-ce60-d3bebfdc7040"
      },
      "source": [
        "predictions[0].shape"
      ],
      "execution_count": 32,
      "outputs": [
        {
          "output_type": "execute_result",
          "data": {
            "text/plain": [
              "(46,)"
            ]
          },
          "metadata": {
            "tags": []
          },
          "execution_count": 32
        }
      ]
    },
    {
      "cell_type": "code",
      "metadata": {
        "id": "dRzRk3e6W-eH",
        "colab_type": "code",
        "colab": {
          "base_uri": "https://localhost:8080/",
          "height": 34
        },
        "outputId": "28f02442-cec0-448c-d89e-a4b54c467b46"
      },
      "source": [
        "np.sum(predictions[0])"
      ],
      "execution_count": 33,
      "outputs": [
        {
          "output_type": "execute_result",
          "data": {
            "text/plain": [
              "1.0000001"
            ]
          },
          "metadata": {
            "tags": []
          },
          "execution_count": 33
        }
      ]
    },
    {
      "cell_type": "code",
      "metadata": {
        "id": "p2ERkfQ0W-eJ",
        "colab_type": "code",
        "colab": {
          "base_uri": "https://localhost:8080/",
          "height": 34
        },
        "outputId": "01766a6e-daca-4fa4-df91-5c502ee29493"
      },
      "source": [
        "np.argmax(predictions[0])"
      ],
      "execution_count": 34,
      "outputs": [
        {
          "output_type": "execute_result",
          "data": {
            "text/plain": [
              "3"
            ]
          },
          "metadata": {
            "tags": []
          },
          "execution_count": 34
        }
      ]
    },
    {
      "cell_type": "code",
      "metadata": {
        "id": "zhTRaQCbba-N",
        "colab_type": "code",
        "colab": {
          "base_uri": "https://localhost:8080/",
          "height": 34
        },
        "outputId": "0570a728-c07e-40af-99cd-4094db2c2e5a"
      },
      "source": [
        "predictions[0][3]"
      ],
      "execution_count": 35,
      "outputs": [
        {
          "output_type": "execute_result",
          "data": {
            "text/plain": [
              "0.92518073"
            ]
          },
          "metadata": {
            "tags": []
          },
          "execution_count": 35
        }
      ]
    },
    {
      "cell_type": "code",
      "metadata": {
        "id": "MesW6DYKbupi",
        "colab_type": "code",
        "colab": {}
      },
      "source": [
        ""
      ],
      "execution_count": null,
      "outputs": []
    },
    {
      "cell_type": "code",
      "metadata": {
        "id": "MZeovg8ubuWr",
        "colab_type": "code",
        "colab": {}
      },
      "source": [
        "# one-hot-encoding을 사용하지 않고"
      ],
      "execution_count": 39,
      "outputs": []
    },
    {
      "cell_type": "code",
      "metadata": {
        "id": "4VJQCdKTW-eL",
        "colab_type": "code",
        "colab": {}
      },
      "source": [
        "y_train = np.array(train_labels)\n",
        "y_test = np.array(test_labels)"
      ],
      "execution_count": 40,
      "outputs": []
    },
    {
      "cell_type": "code",
      "metadata": {
        "id": "wxKucN8-cMPn",
        "colab_type": "code",
        "colab": {
          "base_uri": "https://localhost:8080/",
          "height": 34
        },
        "outputId": "3a9ff03b-c337-4f18-f445-6f48760f1996"
      },
      "source": [
        "y_train[0]"
      ],
      "execution_count": 41,
      "outputs": [
        {
          "output_type": "execute_result",
          "data": {
            "text/plain": [
              "3"
            ]
          },
          "metadata": {
            "tags": []
          },
          "execution_count": 41
        }
      ]
    },
    {
      "cell_type": "code",
      "metadata": {
        "id": "PNQd4Od3W-eO",
        "colab_type": "code",
        "colab": {}
      },
      "source": [
        "model.compile(optimizer='rmsprop', loss='sparse_categorical_crossentropy', metrics=['accuracy'])"
      ],
      "execution_count": 42,
      "outputs": []
    },
    {
      "cell_type": "code",
      "metadata": {
        "id": "YPQ3RtZUW-eR",
        "colab_type": "code",
        "colab": {
          "base_uri": "https://localhost:8080/",
          "height": 706
        },
        "outputId": "c93e2235-7c24-4649-a634-1fd3170fdb9c"
      },
      "source": [
        "model = models.Sequential()\n",
        "model.add(layers.Dense(64, activation='relu', input_shape=(10000,)))\n",
        "model.add(layers.Dense(4, activation='relu'))\n",
        "model.add(layers.Dense(46, activation='softmax'))\n",
        "\n",
        "model.compile(optimizer='rmsprop',\n",
        "              loss='categorical_crossentropy',\n",
        "              metrics=['accuracy'])\n",
        "model.fit(partial_x_train,\n",
        "          partial_y_train,\n",
        "          epochs=20,\n",
        "          batch_size=128,\n",
        "          validation_data=(x_val, y_val))"
      ],
      "execution_count": 43,
      "outputs": [
        {
          "output_type": "stream",
          "text": [
            "Epoch 1/20\n",
            "63/63 [==============================] - 1s 18ms/step - loss: 3.2866 - accuracy: 0.1062 - val_loss: 2.6522 - val_accuracy: 0.2850\n",
            "Epoch 2/20\n",
            "63/63 [==============================] - 1s 16ms/step - loss: 2.0133 - accuracy: 0.4886 - val_loss: 1.6484 - val_accuracy: 0.6150\n",
            "Epoch 3/20\n",
            "63/63 [==============================] - 1s 16ms/step - loss: 1.3807 - accuracy: 0.6419 - val_loss: 1.4419 - val_accuracy: 0.6420\n",
            "Epoch 4/20\n",
            "63/63 [==============================] - 1s 16ms/step - loss: 1.1721 - accuracy: 0.7057 - val_loss: 1.3775 - val_accuracy: 0.6920\n",
            "Epoch 5/20\n",
            "63/63 [==============================] - 1s 16ms/step - loss: 1.0391 - accuracy: 0.7533 - val_loss: 1.3606 - val_accuracy: 0.7060\n",
            "Epoch 6/20\n",
            "63/63 [==============================] - 1s 17ms/step - loss: 0.9410 - accuracy: 0.7756 - val_loss: 1.3333 - val_accuracy: 0.7110\n",
            "Epoch 7/20\n",
            "63/63 [==============================] - 1s 16ms/step - loss: 0.8586 - accuracy: 0.7908 - val_loss: 1.3412 - val_accuracy: 0.7100\n",
            "Epoch 8/20\n",
            "63/63 [==============================] - 1s 16ms/step - loss: 0.7898 - accuracy: 0.8024 - val_loss: 1.3785 - val_accuracy: 0.7200\n",
            "Epoch 9/20\n",
            "63/63 [==============================] - 1s 16ms/step - loss: 0.7297 - accuracy: 0.8136 - val_loss: 1.3866 - val_accuracy: 0.7140\n",
            "Epoch 10/20\n",
            "63/63 [==============================] - 1s 16ms/step - loss: 0.6806 - accuracy: 0.8241 - val_loss: 1.4759 - val_accuracy: 0.7060\n",
            "Epoch 11/20\n",
            "63/63 [==============================] - 1s 16ms/step - loss: 0.6351 - accuracy: 0.8348 - val_loss: 1.4773 - val_accuracy: 0.7170\n",
            "Epoch 12/20\n",
            "63/63 [==============================] - 1s 16ms/step - loss: 0.5963 - accuracy: 0.8479 - val_loss: 1.4854 - val_accuracy: 0.7130\n",
            "Epoch 13/20\n",
            "63/63 [==============================] - 1s 16ms/step - loss: 0.5615 - accuracy: 0.8592 - val_loss: 1.5576 - val_accuracy: 0.7150\n",
            "Epoch 14/20\n",
            "63/63 [==============================] - 1s 16ms/step - loss: 0.5293 - accuracy: 0.8648 - val_loss: 1.6118 - val_accuracy: 0.7180\n",
            "Epoch 15/20\n",
            "63/63 [==============================] - 1s 17ms/step - loss: 0.5032 - accuracy: 0.8696 - val_loss: 1.6523 - val_accuracy: 0.7140\n",
            "Epoch 16/20\n",
            "63/63 [==============================] - 1s 17ms/step - loss: 0.4743 - accuracy: 0.8727 - val_loss: 1.7074 - val_accuracy: 0.7100\n",
            "Epoch 17/20\n",
            "63/63 [==============================] - 1s 17ms/step - loss: 0.4541 - accuracy: 0.8763 - val_loss: 1.7702 - val_accuracy: 0.7150\n",
            "Epoch 18/20\n",
            "63/63 [==============================] - 1s 16ms/step - loss: 0.4350 - accuracy: 0.8821 - val_loss: 1.8225 - val_accuracy: 0.7060\n",
            "Epoch 19/20\n",
            "63/63 [==============================] - 1s 17ms/step - loss: 0.4150 - accuracy: 0.8841 - val_loss: 1.8939 - val_accuracy: 0.7130\n",
            "Epoch 20/20\n",
            "63/63 [==============================] - 1s 16ms/step - loss: 0.3998 - accuracy: 0.8896 - val_loss: 1.9450 - val_accuracy: 0.7040\n"
          ],
          "name": "stdout"
        },
        {
          "output_type": "execute_result",
          "data": {
            "text/plain": [
              "<tensorflow.python.keras.callbacks.History at 0x7f325d5627f0>"
            ]
          },
          "metadata": {
            "tags": []
          },
          "execution_count": 43
        }
      ]
    },
    {
      "cell_type": "code",
      "metadata": {
        "id": "oWqc5OU3csVf",
        "colab_type": "code",
        "colab": {}
      },
      "source": [
        ""
      ],
      "execution_count": null,
      "outputs": []
    }
  ]
}