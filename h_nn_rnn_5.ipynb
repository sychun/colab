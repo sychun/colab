{
  "nbformat": 4,
  "nbformat_minor": 0,
  "metadata": {
    "colab": {
      "name": "h.nn.rnn-5.ipynb",
      "provenance": [],
      "collapsed_sections": [],
      "authorship_tag": "ABX9TyNOQIf/klYzXg4jVGCvTQEL",
      "include_colab_link": true
    },
    "kernelspec": {
      "name": "python3",
      "display_name": "Python 3"
    },
    "accelerator": "GPU"
  },
  "cells": [
    {
      "cell_type": "markdown",
      "metadata": {
        "id": "view-in-github",
        "colab_type": "text"
      },
      "source": [
        "<a href=\"https://colab.research.google.com/github/sychun/colab/blob/master/h_nn_rnn_5.ipynb\" target=\"_parent\"><img src=\"https://colab.research.google.com/assets/colab-badge.svg\" alt=\"Open In Colab\"/></a>"
      ]
    },
    {
      "cell_type": "code",
      "metadata": {
        "id": "mVt9T9xoaltA"
      },
      "source": [
        "import tensorflow.keras as keras"
      ],
      "execution_count": 1,
      "outputs": []
    },
    {
      "cell_type": "code",
      "metadata": {
        "id": "CKWR2O8ia8tA"
      },
      "source": [
        "(X_train, y_train), (X_test, y_test) = keras.datasets.imdb.load_data(num_words=10000)"
      ],
      "execution_count": 2,
      "outputs": []
    },
    {
      "cell_type": "code",
      "metadata": {
        "id": "4Zk8KzQ-baTJ",
        "outputId": "92ea8376-5828-4c4b-faed-e38506b0219b",
        "colab": {
          "base_uri": "https://localhost:8080/",
          "height": 34
        }
      },
      "source": [
        "y_train[:10]"
      ],
      "execution_count": 3,
      "outputs": [
        {
          "output_type": "execute_result",
          "data": {
            "text/plain": [
              "array([1, 0, 0, 1, 0, 0, 1, 0, 1, 0])"
            ]
          },
          "metadata": {
            "tags": []
          },
          "execution_count": 3
        }
      ]
    },
    {
      "cell_type": "code",
      "metadata": {
        "id": "tQ-1sAWNbfQc",
        "outputId": "3773ac14-66a7-4a1c-81ce-e9c2130bbdd2",
        "colab": {
          "base_uri": "https://localhost:8080/",
          "height": 50
        }
      },
      "source": [
        "from keras.preprocessing import sequence\n",
        "# 길이가 같아야 함. 크게 맞추면 작은 것은 zero padding, 반대면 짤려 나가고\n",
        "print(len(X_train[0]), len(X_train[1]))\n",
        "X_train = sequence.pad_sequences(X_train, maxlen=500)\n",
        "X_test = sequence.pad_sequences(X_test, maxlen=500)\n",
        "print( len(X_train[0]), len(X_train[1]))"
      ],
      "execution_count": 4,
      "outputs": [
        {
          "output_type": "stream",
          "text": [
            "218 189\n",
            "500 500\n"
          ],
          "name": "stdout"
        }
      ]
    },
    {
      "cell_type": "code",
      "metadata": {
        "id": "QLuGaemmcDX1",
        "outputId": "209d7c94-96d2-4a8a-8ec2-330ab46c4099",
        "colab": {
          "base_uri": "https://localhost:8080/",
          "height": 353
        }
      },
      "source": [
        "model = keras.models.Sequential()\n",
        "model.add(keras.layers.Embedding(10000, 128, input_length=500))\n",
        "model.add(keras.layers.Conv1D(32, 7, activation='relu'))\n",
        "model.add(keras.layers.MaxPool1D(5))\n",
        "model.add(keras.layers.Conv1D(32, 7, activation='relu'))\n",
        "model.add(keras.layers.GlobalMaxPool1D())\n",
        "model.add(keras.layers.Dense(1))\n",
        "\n",
        "model.summary()"
      ],
      "execution_count": 5,
      "outputs": [
        {
          "output_type": "stream",
          "text": [
            "Model: \"sequential\"\n",
            "_________________________________________________________________\n",
            "Layer (type)                 Output Shape              Param #   \n",
            "=================================================================\n",
            "embedding (Embedding)        (None, 500, 128)          1280000   \n",
            "_________________________________________________________________\n",
            "conv1d (Conv1D)              (None, 494, 32)           28704     \n",
            "_________________________________________________________________\n",
            "max_pooling1d (MaxPooling1D) (None, 98, 32)            0         \n",
            "_________________________________________________________________\n",
            "conv1d_1 (Conv1D)            (None, 92, 32)            7200      \n",
            "_________________________________________________________________\n",
            "global_max_pooling1d (Global (None, 32)                0         \n",
            "_________________________________________________________________\n",
            "dense (Dense)                (None, 1)                 33        \n",
            "=================================================================\n",
            "Total params: 1,315,937\n",
            "Trainable params: 1,315,937\n",
            "Non-trainable params: 0\n",
            "_________________________________________________________________\n"
          ],
          "name": "stdout"
        }
      ]
    },
    {
      "cell_type": "code",
      "metadata": {
        "id": "aZ9q_r01fE63",
        "outputId": "b7ade9e2-5223-478a-e83d-999eff195e6a",
        "colab": {
          "base_uri": "https://localhost:8080/",
          "height": 353
        }
      },
      "source": [
        "model.compile(loss='binary_crossentropy', optimizer='rmsprop', metrics=['acc'])\n",
        "\n",
        "history = model.fit(X_train, y_train, batch_size=128, epochs=10, validation_split=0.2)"
      ],
      "execution_count": 6,
      "outputs": [
        {
          "output_type": "stream",
          "text": [
            "Epoch 1/10\n",
            "157/157 [==============================] - 5s 32ms/step - loss: 0.5976 - acc: 0.6808 - val_loss: 0.7162 - val_acc: 0.7670\n",
            "Epoch 2/10\n",
            "157/157 [==============================] - 5s 31ms/step - loss: 0.3646 - acc: 0.8806 - val_loss: 0.4156 - val_acc: 0.8740\n",
            "Epoch 3/10\n",
            "157/157 [==============================] - 5s 30ms/step - loss: 0.2963 - acc: 0.9230 - val_loss: 0.4550 - val_acc: 0.8850\n",
            "Epoch 4/10\n",
            "157/157 [==============================] - 5s 30ms/step - loss: 0.2064 - acc: 0.9536 - val_loss: 0.5656 - val_acc: 0.8816\n",
            "Epoch 5/10\n",
            "157/157 [==============================] - 5s 31ms/step - loss: 0.1575 - acc: 0.9753 - val_loss: 0.6225 - val_acc: 0.8808\n",
            "Epoch 6/10\n",
            "157/157 [==============================] - 5s 32ms/step - loss: 0.1243 - acc: 0.9848 - val_loss: 0.7654 - val_acc: 0.8752\n",
            "Epoch 7/10\n",
            "157/157 [==============================] - 5s 31ms/step - loss: 0.1088 - acc: 0.9898 - val_loss: 0.8173 - val_acc: 0.8830\n",
            "Epoch 8/10\n",
            "157/157 [==============================] - 5s 30ms/step - loss: 0.1017 - acc: 0.9901 - val_loss: 0.8547 - val_acc: 0.8846\n",
            "Epoch 9/10\n",
            "157/157 [==============================] - 5s 30ms/step - loss: 0.0974 - acc: 0.9919 - val_loss: 0.9293 - val_acc: 0.8844\n",
            "Epoch 10/10\n",
            "157/157 [==============================] - 5s 31ms/step - loss: 0.0991 - acc: 0.9916 - val_loss: 0.9800 - val_acc: 0.8782\n"
          ],
          "name": "stdout"
        }
      ]
    },
    {
      "cell_type": "code",
      "metadata": {
        "id": "dTWjDaWCgjxZ"
      },
      "source": [
        ""
      ],
      "execution_count": 6,
      "outputs": []
    }
  ]
}