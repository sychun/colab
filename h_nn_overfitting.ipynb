{
  "nbformat": 4,
  "nbformat_minor": 0,
  "metadata": {
    "colab": {
      "name": "h.nn.overfitting.ipynb",
      "provenance": [],
      "authorship_tag": "ABX9TyOVh3++dj/t8JDwjZYWEEG3",
      "include_colab_link": true
    },
    "kernelspec": {
      "name": "python3",
      "display_name": "Python 3"
    }
  },
  "cells": [
    {
      "cell_type": "markdown",
      "metadata": {
        "id": "view-in-github",
        "colab_type": "text"
      },
      "source": [
        "<a href=\"https://colab.research.google.com/github/sychun/colab/blob/master/h_nn_overfitting.ipynb\" target=\"_parent\"><img src=\"https://colab.research.google.com/assets/colab-badge.svg\" alt=\"Open In Colab\"/></a>"
      ]
    },
    {
      "cell_type": "markdown",
      "metadata": {
        "id": "G1hEZGZ328dW",
        "colab_type": "text"
      },
      "source": [
        "Resolving Overfitting issues"
      ]
    },
    {
      "cell_type": "code",
      "metadata": {
        "id": "yFpJ4RnbxKi3",
        "colab_type": "code",
        "colab": {}
      },
      "source": [
        "import numpy as np\n",
        "import pandas as pd\n",
        "import matplotlib.pyplot as plt\n",
        "import tensorflow as tf\n",
        "import tensorflow.keras as keras"
      ],
      "execution_count": 4,
      "outputs": []
    },
    {
      "cell_type": "code",
      "metadata": {
        "id": "65gSkdUpxSyd",
        "colab_type": "code",
        "colab": {}
      },
      "source": [
        "(train_data, train_labels), (test_data, test_labels) = keras.datasets.imdb.load_data(num_words=10000)"
      ],
      "execution_count": 8,
      "outputs": []
    },
    {
      "cell_type": "code",
      "metadata": {
        "id": "uy9oErxEx2G7",
        "colab_type": "code",
        "colab": {}
      },
      "source": [
        "def vectorize_sequences(sequences, dimension=10000):\n",
        "    # 크기가 (len(sequences), dimension))이고 모든 원소가 0인 행렬을 만듭니다\n",
        "    results = np.zeros((len(sequences), dimension))\n",
        "    for i, sequence in enumerate(sequences):\n",
        "        results[i, sequence] = 1.  # results[i]에서 특정 인덱스의 위치를 1로 만듭니다\n",
        "    return results\n",
        "\n",
        "# 훈련 데이터를 벡터로 변환합니다\n",
        "x_train = vectorize_sequences(train_data)\n",
        "# 테스트 데이터를 벡터로 변환합니다\n",
        "x_test = vectorize_sequences(test_data)\n",
        "\n",
        "y_train = train_labels.astype('float32')\n",
        "y_test = test_labels.astype('float32')"
      ],
      "execution_count": 11,
      "outputs": []
    },
    {
      "cell_type": "code",
      "metadata": {
        "id": "mhtb-kSlynMJ",
        "colab_type": "code",
        "colab": {}
      },
      "source": [
        "original_model = keras.models.Sequential()\n",
        "original_model.add(keras.layers.Dense(16, input_shape=(10000, ), activation='relu'))\n",
        "original_model.add(keras.layers.Dense(16, activation='relu'))\n",
        "original_model.add(keras.layers.Dense(1, activation='sigmoid'))\n",
        "\n",
        "original_model.compile(loss='binary_crossentropy', optimizer=\"rmsprop\", metrics=['accuracy'])"
      ],
      "execution_count": 12,
      "outputs": []
    },
    {
      "cell_type": "code",
      "metadata": {
        "id": "uN-Ie52c0tQw",
        "colab_type": "code",
        "colab": {
          "base_uri": "https://localhost:8080/",
          "height": 706
        },
        "outputId": "88df7c03-c860-4660-afdd-1ac4e58fc6e2"
      },
      "source": [
        "original_model.fit(x_train, y_train, batch_size=512, epochs=20, validation_data=(x_test, y_test))"
      ],
      "execution_count": 14,
      "outputs": [
        {
          "output_type": "stream",
          "text": [
            "Epoch 1/20\n",
            "49/49 [==============================] - 3s 59ms/step - loss: 0.0167 - accuracy: 0.9962 - val_loss: 0.8584 - val_accuracy: 0.8473\n",
            "Epoch 2/20\n",
            "49/49 [==============================] - 2s 39ms/step - loss: 0.0153 - accuracy: 0.9958 - val_loss: 0.9283 - val_accuracy: 0.8476\n",
            "Epoch 3/20\n",
            "49/49 [==============================] - 2s 40ms/step - loss: 0.0120 - accuracy: 0.9973 - val_loss: 0.9365 - val_accuracy: 0.8469\n",
            "Epoch 4/20\n",
            "49/49 [==============================] - 2s 40ms/step - loss: 0.0130 - accuracy: 0.9965 - val_loss: 0.9725 - val_accuracy: 0.8461\n",
            "Epoch 5/20\n",
            "49/49 [==============================] - 2s 40ms/step - loss: 0.0090 - accuracy: 0.9978 - val_loss: 1.0236 - val_accuracy: 0.8460\n",
            "Epoch 6/20\n",
            "49/49 [==============================] - 2s 40ms/step - loss: 0.0083 - accuracy: 0.9982 - val_loss: 1.0555 - val_accuracy: 0.8448\n",
            "Epoch 7/20\n",
            "49/49 [==============================] - 2s 40ms/step - loss: 0.0098 - accuracy: 0.9975 - val_loss: 1.0896 - val_accuracy: 0.8444\n",
            "Epoch 8/20\n",
            "49/49 [==============================] - 2s 39ms/step - loss: 0.0028 - accuracy: 0.9998 - val_loss: 1.4667 - val_accuracy: 0.8254\n",
            "Epoch 9/20\n",
            "49/49 [==============================] - 2s 40ms/step - loss: 0.0063 - accuracy: 0.9980 - val_loss: 1.1460 - val_accuracy: 0.8442\n",
            "Epoch 10/20\n",
            "49/49 [==============================] - 2s 40ms/step - loss: 0.0088 - accuracy: 0.9978 - val_loss: 1.2107 - val_accuracy: 0.8430\n",
            "Epoch 11/20\n",
            "49/49 [==============================] - 2s 40ms/step - loss: 0.0063 - accuracy: 0.9982 - val_loss: 1.2364 - val_accuracy: 0.8430\n",
            "Epoch 12/20\n",
            "49/49 [==============================] - 2s 40ms/step - loss: 0.0012 - accuracy: 1.0000 - val_loss: 1.2816 - val_accuracy: 0.8432\n",
            "Epoch 13/20\n",
            "49/49 [==============================] - 2s 40ms/step - loss: 0.0069 - accuracy: 0.9978 - val_loss: 1.3036 - val_accuracy: 0.8422\n",
            "Epoch 14/20\n",
            "49/49 [==============================] - 2s 40ms/step - loss: 0.0056 - accuracy: 0.9984 - val_loss: 1.3461 - val_accuracy: 0.8427\n",
            "Epoch 15/20\n",
            "49/49 [==============================] - 2s 40ms/step - loss: 7.1497e-04 - accuracy: 1.0000 - val_loss: 1.3813 - val_accuracy: 0.8412\n",
            "Epoch 16/20\n",
            "49/49 [==============================] - 2s 40ms/step - loss: 0.0027 - accuracy: 0.9994 - val_loss: 1.4056 - val_accuracy: 0.8416\n",
            "Epoch 17/20\n",
            "49/49 [==============================] - 2s 40ms/step - loss: 0.0058 - accuracy: 0.9988 - val_loss: 1.4572 - val_accuracy: 0.8418\n",
            "Epoch 18/20\n",
            "49/49 [==============================] - 2s 39ms/step - loss: 5.2006e-04 - accuracy: 0.9999 - val_loss: 1.4988 - val_accuracy: 0.8402\n",
            "Epoch 19/20\n",
            "49/49 [==============================] - 2s 40ms/step - loss: 0.0033 - accuracy: 0.9990 - val_loss: 1.5144 - val_accuracy: 0.8410\n",
            "Epoch 20/20\n",
            "49/49 [==============================] - 2s 40ms/step - loss: 3.3960e-04 - accuracy: 1.0000 - val_loss: 1.5696 - val_accuracy: 0.8396\n"
          ],
          "name": "stdout"
        },
        {
          "output_type": "execute_result",
          "data": {
            "text/plain": [
              "<tensorflow.python.keras.callbacks.History at 0x7f40df6b7f60>"
            ]
          },
          "metadata": {
            "tags": []
          },
          "execution_count": 14
        }
      ]
    },
    {
      "cell_type": "code",
      "metadata": {
        "id": "ZJq1bu2I17cc",
        "colab_type": "code",
        "colab": {}
      },
      "source": [
        ""
      ],
      "execution_count": null,
      "outputs": []
    }
  ]
}