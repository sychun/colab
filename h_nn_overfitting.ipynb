{
  "nbformat": 4,
  "nbformat_minor": 0,
  "metadata": {
    "colab": {
      "name": "h.nn.overfitting.ipynb",
      "provenance": [],
      "collapsed_sections": [],
      "toc_visible": true,
      "authorship_tag": "ABX9TyOFV8nLQxLBq2BVOfSBoI5G",
      "include_colab_link": true
    },
    "kernelspec": {
      "name": "python3",
      "display_name": "Python 3"
    },
    "accelerator": "GPU"
  },
  "cells": [
    {
      "cell_type": "markdown",
      "metadata": {
        "id": "view-in-github",
        "colab_type": "text"
      },
      "source": [
        "<a href=\"https://colab.research.google.com/github/sychun/colab/blob/master/h_nn_overfitting.ipynb\" target=\"_parent\"><img src=\"https://colab.research.google.com/assets/colab-badge.svg\" alt=\"Open In Colab\"/></a>"
      ]
    },
    {
      "cell_type": "markdown",
      "metadata": {
        "id": "G1hEZGZ328dW",
        "colab_type": "text"
      },
      "source": [
        "Resolving Overfitting issues (The epochs should be around 4)\n"
      ]
    },
    {
      "cell_type": "code",
      "metadata": {
        "id": "yFpJ4RnbxKi3",
        "colab_type": "code",
        "colab": {}
      },
      "source": [
        "import numpy as np\n",
        "import pandas as pd\n",
        "import matplotlib.pyplot as plt\n",
        "import tensorflow as tf\n",
        "import tensorflow.keras as keras"
      ],
      "execution_count": 1,
      "outputs": []
    },
    {
      "cell_type": "code",
      "metadata": {
        "id": "65gSkdUpxSyd",
        "colab_type": "code",
        "colab": {}
      },
      "source": [
        "(train_data, train_labels), (test_data, test_labels) = keras.datasets.imdb.load_data(num_words=10000)"
      ],
      "execution_count": 2,
      "outputs": []
    },
    {
      "cell_type": "code",
      "metadata": {
        "id": "uy9oErxEx2G7",
        "colab_type": "code",
        "colab": {}
      },
      "source": [
        "def vectorize_sequences(sequences, dimension=10000):\n",
        "    # 크기가 (len(sequences), dimension))이고 모든 원소가 0인 행렬을 만듭니다\n",
        "    results = np.zeros((len(sequences), dimension))\n",
        "    for i, sequence in enumerate(sequences):\n",
        "        results[i, sequence] = 1.  # results[i]에서 특정 인덱스의 위치를 1로 만듭니다\n",
        "    return results\n",
        "\n",
        "# 훈련 데이터를 벡터로 변환합니다\n",
        "x_train = vectorize_sequences(train_data)\n",
        "# 테스트 데이터를 벡터로 변환합니다\n",
        "x_test = vectorize_sequences(test_data)\n",
        "\n",
        "y_train = train_labels.astype('float32')\n",
        "y_test = test_labels.astype('float32')"
      ],
      "execution_count": 3,
      "outputs": []
    },
    {
      "cell_type": "code",
      "metadata": {
        "id": "mhtb-kSlynMJ",
        "colab_type": "code",
        "colab": {}
      },
      "source": [
        "original_model = keras.models.Sequential()\n",
        "original_model.add(keras.layers.Dense(16, input_shape=(10000, ), activation='relu'))\n",
        "original_model.add(keras.layers.Dense(16, activation='relu'))\n",
        "original_model.add(keras.layers.Dense(1, activation='sigmoid'))\n",
        "\n",
        "original_model.compile(loss='binary_crossentropy', optimizer=\"rmsprop\", metrics=['accuracy'])"
      ],
      "execution_count": 4,
      "outputs": []
    },
    {
      "cell_type": "code",
      "metadata": {
        "id": "uN-Ie52c0tQw",
        "colab_type": "code",
        "colab": {}
      },
      "source": [
        "original_model.fit(x_train, y_train, batch_size=512, epochs=20, validation_data=(x_test, y_test))"
      ],
      "execution_count": null,
      "outputs": []
    },
    {
      "cell_type": "code",
      "metadata": {
        "id": "WlYeVZCh6uS3",
        "colab_type": "code",
        "colab": {}
      },
      "source": [
        "original_hist = original_model.fit(x_train, y_train, batch_size=512, epochs=20, validation_data=(x_test, y_test))"
      ],
      "execution_count": null,
      "outputs": []
    },
    {
      "cell_type": "markdown",
      "metadata": {
        "id": "LIjvZcnF6f2F",
        "colab_type": "text"
      },
      "source": [
        "Overfitted!!!"
      ]
    },
    {
      "cell_type": "code",
      "metadata": {
        "id": "ZJq1bu2I17cc",
        "colab_type": "code",
        "colab": {}
      },
      "source": [
        "smaller_model = keras.models.Sequential()\n",
        "smaller_model.add(keras.layers.Dense(6, input_shape=(10000, ), activation='relu'))\n",
        "smaller_model.add(keras.layers.Dense(6, activation='relu'))\n",
        "smaller_model.add(keras.layers.Dense(1, activation='sigmoid'))\n",
        "\n",
        "smaller_model.compile(loss='binary_crossentropy', optimizer=\"rmsprop\", metrics=['accuracy'])"
      ],
      "execution_count": 7,
      "outputs": []
    },
    {
      "cell_type": "code",
      "metadata": {
        "id": "5uaGumwj7trX",
        "colab_type": "code",
        "colab": {}
      },
      "source": [
        "smaller_hist = smaller_model.fit(x_train, y_train, batch_size=512, epochs=20, validation_data=(x_test, y_test))"
      ],
      "execution_count": null,
      "outputs": []
    },
    {
      "cell_type": "code",
      "metadata": {
        "id": "uznFEEF485Rh",
        "colab_type": "code",
        "colab": {}
      },
      "source": [
        "bigger_model = keras.models.Sequential()\n",
        "bigger_model.add(keras.layers.Dense(1024, input_shape=(10000, ), activation='relu'))\n",
        "bigger_model.add(keras.layers.Dense(1024, activation='relu'))\n",
        "bigger_model.add(keras.layers.Dense(1, activation='sigmoid'))\n",
        "\n",
        "bigger_model.compile(loss='binary_crossentropy', optimizer=\"rmsprop\", metrics=['accuracy'])"
      ],
      "execution_count": 9,
      "outputs": []
    },
    {
      "cell_type": "code",
      "metadata": {
        "id": "ZsVNDxbl9Wyd",
        "colab_type": "code",
        "colab": {}
      },
      "source": [
        "bigger_hist = bigger_model.fit(x_train, y_train, batch_size=512, epochs=20, validation_data=(x_test, y_test))"
      ],
      "execution_count": null,
      "outputs": []
    },
    {
      "cell_type": "code",
      "metadata": {
        "id": "gYxc1yMy9cPs",
        "colab_type": "code",
        "colab": {}
      },
      "source": [
        "l2_model = keras.models.Sequential()\n",
        "l2_model.add(keras.layers.Dense(16, input_shape=(10000, ), activation='relu', kernel_regularizer=keras.regularizers.l2(0.001)))\n",
        "l2_model.add(keras.layers.Dense(16, activation='relu', kernel_regularizer=keras.regularizers.l2(0.001)))\n",
        "l2_model.add(keras.layers.Dense(1, activation='sigmoid'))\n",
        "\n",
        "l2_model.compile(loss='binary_crossentropy', optimizer=\"rmsprop\", metrics=['accuracy'])"
      ],
      "execution_count": 13,
      "outputs": []
    },
    {
      "cell_type": "code",
      "metadata": {
        "id": "5KGosARuAwDZ",
        "colab_type": "code",
        "colab": {}
      },
      "source": [
        "l2_hist = l2_model.fit(x_train, y_train, batch_size=512, epochs=20, validation_data=(x_test, y_test))"
      ],
      "execution_count": null,
      "outputs": []
    },
    {
      "cell_type": "code",
      "metadata": {
        "id": "0iBEX_BFB2wu",
        "colab_type": "code",
        "colab": {
          "base_uri": "https://localhost:8080/",
          "height": 689
        },
        "outputId": "66c9ab4c-063c-4036-ab13-dec105eb5244"
      },
      "source": [
        "l1_model = keras.models.Sequential()\n",
        "l1_model.add(keras.layers.Dense(16, input_shape=(10000, ), activation='relu', kernel_regularizer=keras.regularizers.l1(0.0001)))\n",
        "l1_model.add(keras.layers.Dense(16, activation='relu', kernel_regularizer=keras.regularizers.l1(0.0001)))\n",
        "l1_model.add(keras.layers.Dense(1, activation='sigmoid'))\n",
        "\n",
        "l1_model.compile(loss='binary_crossentropy', optimizer=\"rmsprop\", metrics=['accuracy'])\n",
        "\n",
        "l1_hist = l1_model.fit(x_train, y_train, batch_size=512, epochs=20, validation_data=(x_test, y_test))"
      ],
      "execution_count": 15,
      "outputs": [
        {
          "output_type": "stream",
          "text": [
            "Epoch 1/20\n",
            "49/49 [==============================] - 4s 74ms/step - loss: 0.5659 - accuracy: 0.8180 - val_loss: 0.4338 - val_accuracy: 0.8757\n",
            "Epoch 2/20\n",
            "49/49 [==============================] - 1s 22ms/step - loss: 0.3804 - accuracy: 0.8896 - val_loss: 0.3780 - val_accuracy: 0.8840\n",
            "Epoch 3/20\n",
            "49/49 [==============================] - 1s 22ms/step - loss: 0.3348 - accuracy: 0.9043 - val_loss: 0.3613 - val_accuracy: 0.8882\n",
            "Epoch 4/20\n",
            "49/49 [==============================] - 1s 21ms/step - loss: 0.3177 - accuracy: 0.9106 - val_loss: 0.3774 - val_accuracy: 0.8807\n",
            "Epoch 5/20\n",
            "49/49 [==============================] - 1s 21ms/step - loss: 0.3102 - accuracy: 0.9138 - val_loss: 0.3609 - val_accuracy: 0.8869\n",
            "Epoch 6/20\n",
            "49/49 [==============================] - 1s 22ms/step - loss: 0.3019 - accuracy: 0.9162 - val_loss: 0.3777 - val_accuracy: 0.8805\n",
            "Epoch 7/20\n",
            "49/49 [==============================] - 1s 22ms/step - loss: 0.2950 - accuracy: 0.9192 - val_loss: 0.3835 - val_accuracy: 0.8780\n",
            "Epoch 8/20\n",
            "49/49 [==============================] - 1s 22ms/step - loss: 0.2913 - accuracy: 0.9200 - val_loss: 0.3756 - val_accuracy: 0.8804\n",
            "Epoch 9/20\n",
            "49/49 [==============================] - 1s 22ms/step - loss: 0.2849 - accuracy: 0.9246 - val_loss: 0.3917 - val_accuracy: 0.8770\n",
            "Epoch 10/20\n",
            "49/49 [==============================] - 1s 22ms/step - loss: 0.2825 - accuracy: 0.9248 - val_loss: 0.3887 - val_accuracy: 0.8758\n",
            "Epoch 11/20\n",
            "49/49 [==============================] - 1s 22ms/step - loss: 0.2765 - accuracy: 0.9261 - val_loss: 0.4033 - val_accuracy: 0.8710\n",
            "Epoch 12/20\n",
            "49/49 [==============================] - 1s 22ms/step - loss: 0.2721 - accuracy: 0.9292 - val_loss: 0.3815 - val_accuracy: 0.8814\n",
            "Epoch 13/20\n",
            "49/49 [==============================] - 1s 23ms/step - loss: 0.2684 - accuracy: 0.9313 - val_loss: 0.4352 - val_accuracy: 0.8609\n",
            "Epoch 14/20\n",
            "49/49 [==============================] - 1s 23ms/step - loss: 0.2674 - accuracy: 0.9304 - val_loss: 0.3879 - val_accuracy: 0.8794\n",
            "Epoch 15/20\n",
            "49/49 [==============================] - 1s 22ms/step - loss: 0.2600 - accuracy: 0.9328 - val_loss: 0.4227 - val_accuracy: 0.8663\n",
            "Epoch 16/20\n",
            "49/49 [==============================] - 1s 22ms/step - loss: 0.2527 - accuracy: 0.9378 - val_loss: 0.4161 - val_accuracy: 0.8694\n",
            "Epoch 17/20\n",
            "49/49 [==============================] - 1s 22ms/step - loss: 0.2490 - accuracy: 0.9385 - val_loss: 0.3932 - val_accuracy: 0.8785\n",
            "Epoch 18/20\n",
            "49/49 [==============================] - 1s 22ms/step - loss: 0.2445 - accuracy: 0.9405 - val_loss: 0.3982 - val_accuracy: 0.8767\n",
            "Epoch 19/20\n",
            "49/49 [==============================] - 1s 21ms/step - loss: 0.2391 - accuracy: 0.9418 - val_loss: 0.4172 - val_accuracy: 0.8688\n",
            "Epoch 20/20\n",
            "49/49 [==============================] - 1s 22ms/step - loss: 0.2324 - accuracy: 0.9466 - val_loss: 0.4061 - val_accuracy: 0.8753\n"
          ],
          "name": "stdout"
        }
      ]
    },
    {
      "cell_type": "code",
      "metadata": {
        "id": "yFvCe5ZOCQTB",
        "colab_type": "code",
        "colab": {
          "base_uri": "https://localhost:8080/",
          "height": 689
        },
        "outputId": "fd720e46-c62d-4aca-add6-210d245a50ef"
      },
      "source": [
        "l1l2_model = keras.models.Sequential()\n",
        "l1l2_model.add(keras.layers.Dense(16, input_shape=(10000, ), activation='relu', kernel_regularizer=keras.regularizers.l1_l2(l1=0.0001, l2=0.001)))\n",
        "l1l2_model.add(keras.layers.Dense(16, activation='relu', kernel_regularizer=keras.regularizers.l1_l2(l1=0.0001, l2=0.001)))\n",
        "l1l2_model.add(keras.layers.Dense(1, activation='sigmoid'))\n",
        "\n",
        "l1l2_model.compile(loss='binary_crossentropy', optimizer=\"rmsprop\", metrics=['accuracy'])\n",
        "\n",
        "l1l2_hist = l1l2_model.fit(x_train, y_train, batch_size=512, epochs=20, validation_data=(x_test, y_test))"
      ],
      "execution_count": 4,
      "outputs": [
        {
          "output_type": "stream",
          "text": [
            "Epoch 1/20\n",
            "49/49 [==============================] - 2s 35ms/step - loss: 0.5933 - accuracy: 0.8068 - val_loss: 0.4628 - val_accuracy: 0.8630\n",
            "Epoch 2/20\n",
            "49/49 [==============================] - 1s 22ms/step - loss: 0.4035 - accuracy: 0.8901 - val_loss: 0.3974 - val_accuracy: 0.8857\n",
            "Epoch 3/20\n",
            "49/49 [==============================] - 1s 22ms/step - loss: 0.3674 - accuracy: 0.8980 - val_loss: 0.3903 - val_accuracy: 0.8842\n",
            "Epoch 4/20\n",
            "49/49 [==============================] - 1s 22ms/step - loss: 0.3513 - accuracy: 0.9033 - val_loss: 0.3810 - val_accuracy: 0.8871\n",
            "Epoch 5/20\n",
            "49/49 [==============================] - 1s 23ms/step - loss: 0.3443 - accuracy: 0.9058 - val_loss: 0.3909 - val_accuracy: 0.8821\n",
            "Epoch 6/20\n",
            "49/49 [==============================] - 1s 22ms/step - loss: 0.3363 - accuracy: 0.9082 - val_loss: 0.4125 - val_accuracy: 0.8726\n",
            "Epoch 7/20\n",
            "49/49 [==============================] - 1s 23ms/step - loss: 0.3291 - accuracy: 0.9128 - val_loss: 0.3811 - val_accuracy: 0.8856\n",
            "Epoch 8/20\n",
            "49/49 [==============================] - 1s 22ms/step - loss: 0.3230 - accuracy: 0.9149 - val_loss: 0.4073 - val_accuracy: 0.8722\n",
            "Epoch 9/20\n",
            "49/49 [==============================] - 1s 22ms/step - loss: 0.3214 - accuracy: 0.9142 - val_loss: 0.3909 - val_accuracy: 0.8819\n",
            "Epoch 10/20\n",
            "49/49 [==============================] - 1s 22ms/step - loss: 0.3169 - accuracy: 0.9181 - val_loss: 0.3844 - val_accuracy: 0.8846\n",
            "Epoch 11/20\n",
            "49/49 [==============================] - 1s 22ms/step - loss: 0.3136 - accuracy: 0.9197 - val_loss: 0.3854 - val_accuracy: 0.8850\n",
            "Epoch 12/20\n",
            "49/49 [==============================] - 1s 21ms/step - loss: 0.3038 - accuracy: 0.9234 - val_loss: 0.3860 - val_accuracy: 0.8838\n",
            "Epoch 13/20\n",
            "49/49 [==============================] - 1s 22ms/step - loss: 0.3041 - accuracy: 0.9230 - val_loss: 0.4087 - val_accuracy: 0.8745\n",
            "Epoch 14/20\n",
            "49/49 [==============================] - 1s 22ms/step - loss: 0.3011 - accuracy: 0.9216 - val_loss: 0.3930 - val_accuracy: 0.8797\n",
            "Epoch 15/20\n",
            "49/49 [==============================] - 1s 23ms/step - loss: 0.2945 - accuracy: 0.9259 - val_loss: 0.4239 - val_accuracy: 0.8650\n",
            "Epoch 16/20\n",
            "49/49 [==============================] - 1s 22ms/step - loss: 0.2887 - accuracy: 0.9279 - val_loss: 0.3898 - val_accuracy: 0.8819\n",
            "Epoch 17/20\n",
            "49/49 [==============================] - 1s 22ms/step - loss: 0.2917 - accuracy: 0.9262 - val_loss: 0.3994 - val_accuracy: 0.8774\n",
            "Epoch 18/20\n",
            "49/49 [==============================] - 1s 22ms/step - loss: 0.2827 - accuracy: 0.9304 - val_loss: 0.4041 - val_accuracy: 0.8740\n",
            "Epoch 19/20\n",
            "49/49 [==============================] - 1s 22ms/step - loss: 0.2831 - accuracy: 0.9287 - val_loss: 0.4017 - val_accuracy: 0.8744\n",
            "Epoch 20/20\n",
            "49/49 [==============================] - 1s 22ms/step - loss: 0.2805 - accuracy: 0.9302 - val_loss: 0.3917 - val_accuracy: 0.8818\n"
          ],
          "name": "stdout"
        }
      ]
    },
    {
      "cell_type": "code",
      "metadata": {
        "id": "i-KQFBeuDZMm",
        "colab_type": "code",
        "colab": {
          "base_uri": "https://localhost:8080/",
          "height": 689
        },
        "outputId": "2f4786b7-b58e-465d-8b99-4a4de2187eee"
      },
      "source": [
        "do_model = keras.models.Sequential()\n",
        "do_model.add(keras.layers.Dense(16, input_shape=(10000, ), activation='relu'))\n",
        "do_model.add(keras.layers.Dropout(0.5))\n",
        "do_model.add(keras.layers.Dense(16, activation='relu'))\n",
        "do_model.add(keras.layers.Dropout(0.5))\n",
        "do_model.add(keras.layers.Dense(1, activation='sigmoid'))\n",
        "\n",
        "do_model.compile(loss='binary_crossentropy', optimizer=\"rmsprop\", metrics=['accuracy'])\n",
        "\n",
        "do_hist = do_model.fit(x_train, y_train, batch_size=512, epochs=20, validation_data=(x_test, y_test))"
      ],
      "execution_count": 6,
      "outputs": [
        {
          "output_type": "stream",
          "text": [
            "Epoch 1/20\n",
            "49/49 [==============================] - 1s 28ms/step - loss: 0.6331 - accuracy: 0.6399 - val_loss: 0.5122 - val_accuracy: 0.8473\n",
            "Epoch 2/20\n",
            "49/49 [==============================] - 1s 20ms/step - loss: 0.5010 - accuracy: 0.7879 - val_loss: 0.3878 - val_accuracy: 0.8775\n",
            "Epoch 3/20\n",
            "49/49 [==============================] - 1s 21ms/step - loss: 0.4044 - accuracy: 0.8494 - val_loss: 0.3212 - val_accuracy: 0.8818\n",
            "Epoch 4/20\n",
            "49/49 [==============================] - 1s 21ms/step - loss: 0.3330 - accuracy: 0.8828 - val_loss: 0.2895 - val_accuracy: 0.8836\n",
            "Epoch 5/20\n",
            "49/49 [==============================] - 1s 21ms/step - loss: 0.2865 - accuracy: 0.9018 - val_loss: 0.2736 - val_accuracy: 0.8906\n",
            "Epoch 6/20\n",
            "49/49 [==============================] - 1s 21ms/step - loss: 0.2454 - accuracy: 0.9190 - val_loss: 0.2882 - val_accuracy: 0.8876\n",
            "Epoch 7/20\n",
            "49/49 [==============================] - 1s 21ms/step - loss: 0.2214 - accuracy: 0.9256 - val_loss: 0.2900 - val_accuracy: 0.8899\n",
            "Epoch 8/20\n",
            "49/49 [==============================] - 1s 22ms/step - loss: 0.1941 - accuracy: 0.9340 - val_loss: 0.3058 - val_accuracy: 0.8884\n",
            "Epoch 9/20\n",
            "49/49 [==============================] - 1s 21ms/step - loss: 0.1815 - accuracy: 0.9378 - val_loss: 0.3284 - val_accuracy: 0.8861\n",
            "Epoch 10/20\n",
            "49/49 [==============================] - 1s 21ms/step - loss: 0.1687 - accuracy: 0.9430 - val_loss: 0.3403 - val_accuracy: 0.8856\n",
            "Epoch 11/20\n",
            "49/49 [==============================] - 1s 21ms/step - loss: 0.1533 - accuracy: 0.9491 - val_loss: 0.3705 - val_accuracy: 0.8842\n",
            "Epoch 12/20\n",
            "49/49 [==============================] - 1s 21ms/step - loss: 0.1446 - accuracy: 0.9504 - val_loss: 0.3917 - val_accuracy: 0.8824\n",
            "Epoch 13/20\n",
            "49/49 [==============================] - 1s 21ms/step - loss: 0.1357 - accuracy: 0.9537 - val_loss: 0.4077 - val_accuracy: 0.8782\n",
            "Epoch 14/20\n",
            "49/49 [==============================] - 1s 21ms/step - loss: 0.1303 - accuracy: 0.9553 - val_loss: 0.4467 - val_accuracy: 0.8770\n",
            "Epoch 15/20\n",
            "49/49 [==============================] - 1s 21ms/step - loss: 0.1251 - accuracy: 0.9569 - val_loss: 0.4390 - val_accuracy: 0.8787\n",
            "Epoch 16/20\n",
            "49/49 [==============================] - 1s 22ms/step - loss: 0.1202 - accuracy: 0.9580 - val_loss: 0.4677 - val_accuracy: 0.8790\n",
            "Epoch 17/20\n",
            "49/49 [==============================] - 1s 21ms/step - loss: 0.1114 - accuracy: 0.9592 - val_loss: 0.5106 - val_accuracy: 0.8785\n",
            "Epoch 18/20\n",
            "49/49 [==============================] - 1s 21ms/step - loss: 0.1073 - accuracy: 0.9618 - val_loss: 0.5231 - val_accuracy: 0.8772\n",
            "Epoch 19/20\n",
            "49/49 [==============================] - 1s 22ms/step - loss: 0.1073 - accuracy: 0.9630 - val_loss: 0.5314 - val_accuracy: 0.8768\n",
            "Epoch 20/20\n",
            "49/49 [==============================] - 1s 21ms/step - loss: 0.1084 - accuracy: 0.9634 - val_loss: 0.5558 - val_accuracy: 0.8735\n"
          ],
          "name": "stdout"
        }
      ]
    },
    {
      "cell_type": "code",
      "metadata": {
        "id": "P8GQAUhsGf3g",
        "colab_type": "code",
        "colab": {}
      },
      "source": [
        ""
      ],
      "execution_count": null,
      "outputs": []
    }
  ]
}