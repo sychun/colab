{
  "nbformat": 4,
  "nbformat_minor": 0,
  "metadata": {
    "colab": {
      "name": "h.nn.rnn-3.ipynb",
      "provenance": [],
      "collapsed_sections": [],
      "authorship_tag": "ABX9TyMyQx4QTBHZU4IrEcrSwTqG",
      "include_colab_link": true
    },
    "kernelspec": {
      "name": "python3",
      "display_name": "Python 3"
    },
    "accelerator": "GPU"
  },
  "cells": [
    {
      "cell_type": "markdown",
      "metadata": {
        "id": "view-in-github",
        "colab_type": "text"
      },
      "source": [
        "<a href=\"https://colab.research.google.com/github/sychun/colab/blob/master/h_nn_rnn_3.ipynb\" target=\"_parent\"><img src=\"https://colab.research.google.com/assets/colab-badge.svg\" alt=\"Open In Colab\"/></a>"
      ]
    },
    {
      "cell_type": "code",
      "metadata": {
        "id": "29k64m7Tutz4"
      },
      "source": [
        "model = keras.models.Sequential()\n",
        "model.add(keras.layers.Embedding(10000, 32))\n",
        "model.add(keras.layers.SimpleRNN(32))"
      ],
      "execution_count": 4,
      "outputs": []
    },
    {
      "cell_type": "code",
      "metadata": {
        "id": "_8so0UIVuMYx"
      },
      "source": [
        "import tensorflow as tf\n",
        "import tensorflow.keras as keras"
      ],
      "execution_count": 5,
      "outputs": []
    },
    {
      "cell_type": "code",
      "metadata": {
        "id": "h28r77UJvUJd",
        "outputId": "f7f6098d-cf02-4f80-ed15-6550b566f4a7",
        "colab": {
          "base_uri": "https://localhost:8080/",
          "height": 50
        }
      },
      "source": [
        "(X_train, y_train), (X_test, y_test) = keras.datasets.imdb.load_data(num_words=10000)\n",
        "X_train = keras.preprocessing.sequence.pad_sequences(X_train, 500)\n",
        "X_test = keras.preprocessing.sequence.pad_sequences(X_train, 500)"
      ],
      "execution_count": 6,
      "outputs": [
        {
          "output_type": "stream",
          "text": [
            "Downloading data from https://storage.googleapis.com/tensorflow/tf-keras-datasets/imdb.npz\n",
            "17465344/17464789 [==============================] - 2s 0us/step\n"
          ],
          "name": "stdout"
        }
      ]
    },
    {
      "cell_type": "code",
      "metadata": {
        "id": "pBYiv79pvQ5W",
        "outputId": "e18bcb0d-94d2-436f-9eed-803679890ffb",
        "colab": {
          "base_uri": "https://localhost:8080/",
          "height": 218
        }
      },
      "source": [
        "model.summary()"
      ],
      "execution_count": 7,
      "outputs": [
        {
          "output_type": "stream",
          "text": [
            "Model: \"sequential\"\n",
            "_________________________________________________________________\n",
            "Layer (type)                 Output Shape              Param #   \n",
            "=================================================================\n",
            "embedding (Embedding)        (None, None, 32)          320000    \n",
            "_________________________________________________________________\n",
            "simple_rnn (SimpleRNN)       (None, 32)                2080      \n",
            "=================================================================\n",
            "Total params: 322,080\n",
            "Trainable params: 322,080\n",
            "Non-trainable params: 0\n",
            "_________________________________________________________________\n"
          ],
          "name": "stdout"
        }
      ]
    },
    {
      "cell_type": "code",
      "metadata": {
        "id": "Ery0h8EL0WLa",
        "outputId": "f0660eeb-5c11-4ba8-9418-603434c063d9",
        "colab": {
          "base_uri": "https://localhost:8080/",
          "height": 34
        }
      },
      "source": [
        "X_train.shape"
      ],
      "execution_count": 8,
      "outputs": [
        {
          "output_type": "execute_result",
          "data": {
            "text/plain": [
              "(25000, 500)"
            ]
          },
          "metadata": {
            "tags": []
          },
          "execution_count": 8
        }
      ]
    },
    {
      "cell_type": "code",
      "metadata": {
        "id": "lftdDlk20cGj",
        "outputId": "c13a02bf-e51e-4e93-a9ce-9a15042e0c31",
        "colab": {
          "base_uri": "https://localhost:8080/",
          "height": 1000
        }
      },
      "source": [
        "model = keras.models.Sequential()\n",
        "model.add(keras.layers.Embedding(10000, 32))\n",
        "# model.add(keras.layers.SimpleRNN(32))\n",
        "model.add(keras.layers.LSTM(32))\n",
        "model.add(keras.layers.Dense(1, activation='sigmoid'))\n",
        "\n",
        "model.compile(loss='binary_crossentropy', optimizer='rmsprop', metrics=['accuracy'])\n",
        "\n",
        "history = model.fit(X_train, y_train, batch_size=128, epochs=32, validation_split=0.2)"
      ],
      "execution_count": 10,
      "outputs": [
        {
          "output_type": "stream",
          "text": [
            "Epoch 1/32\n",
            "157/157 [==============================] - 5s 30ms/step - loss: 0.5050 - accuracy: 0.7585 - val_loss: 0.3410 - val_accuracy: 0.8658\n",
            "Epoch 2/32\n",
            "157/157 [==============================] - 4s 28ms/step - loss: 0.2859 - accuracy: 0.8884 - val_loss: 0.2789 - val_accuracy: 0.8846\n",
            "Epoch 3/32\n",
            "157/157 [==============================] - 4s 28ms/step - loss: 0.2301 - accuracy: 0.9122 - val_loss: 0.3193 - val_accuracy: 0.8602\n",
            "Epoch 4/32\n",
            "157/157 [==============================] - 4s 28ms/step - loss: 0.1954 - accuracy: 0.9290 - val_loss: 0.3275 - val_accuracy: 0.8856\n",
            "Epoch 5/32\n",
            "157/157 [==============================] - 4s 28ms/step - loss: 0.1738 - accuracy: 0.9356 - val_loss: 0.4108 - val_accuracy: 0.8696\n",
            "Epoch 6/32\n",
            "157/157 [==============================] - 4s 28ms/step - loss: 0.1517 - accuracy: 0.9467 - val_loss: 0.3189 - val_accuracy: 0.8688\n",
            "Epoch 7/32\n",
            "157/157 [==============================] - 5s 29ms/step - loss: 0.1399 - accuracy: 0.9513 - val_loss: 0.3127 - val_accuracy: 0.8842\n",
            "Epoch 8/32\n",
            "157/157 [==============================] - 5s 29ms/step - loss: 0.1251 - accuracy: 0.9570 - val_loss: 0.4602 - val_accuracy: 0.8580\n",
            "Epoch 9/32\n",
            "157/157 [==============================] - 4s 29ms/step - loss: 0.1156 - accuracy: 0.9589 - val_loss: 0.3226 - val_accuracy: 0.8800\n",
            "Epoch 10/32\n",
            "157/157 [==============================] - 4s 28ms/step - loss: 0.1116 - accuracy: 0.9622 - val_loss: 0.3733 - val_accuracy: 0.8850\n",
            "Epoch 11/32\n",
            "157/157 [==============================] - 4s 28ms/step - loss: 0.0988 - accuracy: 0.9669 - val_loss: 0.5237 - val_accuracy: 0.8228\n",
            "Epoch 12/32\n",
            "157/157 [==============================] - 4s 29ms/step - loss: 0.0943 - accuracy: 0.9668 - val_loss: 0.3834 - val_accuracy: 0.8786\n",
            "Epoch 13/32\n",
            "157/157 [==============================] - 5s 29ms/step - loss: 0.0845 - accuracy: 0.9724 - val_loss: 0.4259 - val_accuracy: 0.8756\n",
            "Epoch 14/32\n",
            "157/157 [==============================] - 4s 29ms/step - loss: 0.0807 - accuracy: 0.9715 - val_loss: 0.4235 - val_accuracy: 0.8788\n",
            "Epoch 15/32\n",
            "157/157 [==============================] - 5s 29ms/step - loss: 0.0786 - accuracy: 0.9746 - val_loss: 0.4928 - val_accuracy: 0.8660\n",
            "Epoch 16/32\n",
            "157/157 [==============================] - 5s 29ms/step - loss: 0.0714 - accuracy: 0.9754 - val_loss: 0.4885 - val_accuracy: 0.8748\n",
            "Epoch 17/32\n",
            "157/157 [==============================] - 5s 30ms/step - loss: 0.0630 - accuracy: 0.9787 - val_loss: 0.4910 - val_accuracy: 0.8774\n",
            "Epoch 18/32\n",
            "157/157 [==============================] - 5s 30ms/step - loss: 0.0639 - accuracy: 0.9793 - val_loss: 0.4423 - val_accuracy: 0.8734\n",
            "Epoch 19/32\n",
            "157/157 [==============================] - 5s 30ms/step - loss: 0.0600 - accuracy: 0.9806 - val_loss: 0.5452 - val_accuracy: 0.8686\n",
            "Epoch 20/32\n",
            "157/157 [==============================] - 5s 29ms/step - loss: 0.0540 - accuracy: 0.9829 - val_loss: 0.4226 - val_accuracy: 0.8556\n",
            "Epoch 21/32\n",
            "157/157 [==============================] - 5s 29ms/step - loss: 0.0548 - accuracy: 0.9826 - val_loss: 0.5917 - val_accuracy: 0.8624\n",
            "Epoch 22/32\n",
            "157/157 [==============================] - 5s 29ms/step - loss: 0.0487 - accuracy: 0.9851 - val_loss: 0.5606 - val_accuracy: 0.8710\n",
            "Epoch 23/32\n",
            "157/157 [==============================] - 5s 29ms/step - loss: 0.0473 - accuracy: 0.9855 - val_loss: 0.5846 - val_accuracy: 0.8718\n",
            "Epoch 24/32\n",
            "157/157 [==============================] - 5s 31ms/step - loss: 0.0427 - accuracy: 0.9876 - val_loss: 0.5593 - val_accuracy: 0.8662\n",
            "Epoch 25/32\n",
            "157/157 [==============================] - 5s 31ms/step - loss: 0.0406 - accuracy: 0.9875 - val_loss: 0.5632 - val_accuracy: 0.8692\n",
            "Epoch 26/32\n",
            "157/157 [==============================] - 5s 30ms/step - loss: 0.0373 - accuracy: 0.9894 - val_loss: 0.5912 - val_accuracy: 0.8598\n",
            "Epoch 27/32\n",
            "157/157 [==============================] - 5s 30ms/step - loss: 0.0381 - accuracy: 0.9882 - val_loss: 0.6892 - val_accuracy: 0.8542\n",
            "Epoch 28/32\n",
            "157/157 [==============================] - 5s 29ms/step - loss: 0.0389 - accuracy: 0.9888 - val_loss: 0.6113 - val_accuracy: 0.8634\n",
            "Epoch 29/32\n",
            "157/157 [==============================] - 5s 29ms/step - loss: 0.0357 - accuracy: 0.9891 - val_loss: 0.6135 - val_accuracy: 0.8686\n",
            "Epoch 30/32\n",
            "157/157 [==============================] - 5s 29ms/step - loss: 0.0393 - accuracy: 0.9897 - val_loss: 0.5507 - val_accuracy: 0.8618\n",
            "Epoch 31/32\n",
            "157/157 [==============================] - 5s 31ms/step - loss: 0.0237 - accuracy: 0.9927 - val_loss: 0.7263 - val_accuracy: 0.8654\n",
            "Epoch 32/32\n",
            "157/157 [==============================] - 5s 30ms/step - loss: 0.0306 - accuracy: 0.9913 - val_loss: 0.6737 - val_accuracy: 0.8534\n"
          ],
          "name": "stdout"
        }
      ]
    },
    {
      "cell_type": "code",
      "metadata": {
        "id": "5FcLdAAa0109"
      },
      "source": [
        ""
      ],
      "execution_count": null,
      "outputs": []
    }
  ]
}