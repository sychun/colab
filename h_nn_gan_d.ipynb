{
  "nbformat": 4,
  "nbformat_minor": 0,
  "metadata": {
    "kernelspec": {
      "display_name": "Python 3",
      "language": "python",
      "name": "python3"
    },
    "language_info": {
      "codemirror_mode": {
        "name": "ipython",
        "version": 3
      },
      "file_extension": ".py",
      "mimetype": "text/x-python",
      "name": "python",
      "nbconvert_exporter": "python",
      "pygments_lexer": "ipython3",
      "version": "3.6.10"
    },
    "colab": {
      "name": "h.nn.gan-d.ipynb",
      "provenance": [],
      "collapsed_sections": [],
      "include_colab_link": true
    },
    "accelerator": "GPU"
  },
  "cells": [
    {
      "cell_type": "markdown",
      "metadata": {
        "id": "view-in-github",
        "colab_type": "text"
      },
      "source": [
        "<a href=\"https://colab.research.google.com/github/sychun/colab/blob/master/h_nn_gan_d.ipynb\" target=\"_parent\"><img src=\"https://colab.research.google.com/assets/colab-badge.svg\" alt=\"Open In Colab\"/></a>"
      ]
    },
    {
      "cell_type": "code",
      "metadata": {
        "id": "7TDCVfYjte62",
        "outputId": "67d0e3c3-e085-4b01-b70c-4079c31648aa",
        "colab": {
          "base_uri": "https://localhost:8080/",
          "height": 588
        }
      },
      "source": [
        "import tensorflow.keras as keras\n",
        "from tensorflow.keras import layers\n",
        "import numpy as np\n",
        "\n",
        "latent_dim = 32\n",
        "height = 32\n",
        "width = 32\n",
        "channels = 3\n",
        "\n",
        "generator_input = keras.Input(shape=(latent_dim,))\n",
        "\n",
        "# 입력을 16 × 16 크기의 128개 채널을 가진 특성 맵으로 변환합니다\n",
        "x = layers.Dense(128 * 16 * 16)(generator_input)\n",
        "x = layers.LeakyReLU()(x)\n",
        "x = layers.Reshape((16, 16, 128))(x)\n",
        "\n",
        "# 합성곱 층을 추가합니다\n",
        "x = layers.Conv2D(256, 5, padding='same')(x)\n",
        "x = layers.LeakyReLU()(x)\n",
        "\n",
        "# 32 × 32 크기로 업샘플링합니다\n",
        "x = layers.Conv2DTranspose(256, 4, strides=2, padding='same')(x)\n",
        "x = layers.LeakyReLU()(x)\n",
        "\n",
        "# 합성곱 층을 더 추가합니다. 줄이는 padding을 않함\n",
        "x = layers.Conv2D(256, 5, padding='same')(x)\n",
        "x = layers.LeakyReLU()(x)\n",
        "x = layers.Conv2D(256, 5, padding='same')(x)\n",
        "x = layers.LeakyReLU()(x)\n",
        "\n",
        "# 32 × 32 크기의 1개 채널을 가진 특성 맵을 생성합니다. 원본과 같은 크기를 만들어 discriminator에게 보낸다.\n",
        "x = layers.Conv2D(channels, 7, activation='tanh', padding='same')(x)\n",
        "generator = keras.models.Model(generator_input, x)\n",
        "generator.summary()"
      ],
      "execution_count": 1,
      "outputs": [
        {
          "output_type": "stream",
          "text": [
            "Model: \"functional_1\"\n",
            "_________________________________________________________________\n",
            "Layer (type)                 Output Shape              Param #   \n",
            "=================================================================\n",
            "input_1 (InputLayer)         [(None, 32)]              0         \n",
            "_________________________________________________________________\n",
            "dense (Dense)                (None, 32768)             1081344   \n",
            "_________________________________________________________________\n",
            "leaky_re_lu (LeakyReLU)      (None, 32768)             0         \n",
            "_________________________________________________________________\n",
            "reshape (Reshape)            (None, 16, 16, 128)       0         \n",
            "_________________________________________________________________\n",
            "conv2d (Conv2D)              (None, 16, 16, 256)       819456    \n",
            "_________________________________________________________________\n",
            "leaky_re_lu_1 (LeakyReLU)    (None, 16, 16, 256)       0         \n",
            "_________________________________________________________________\n",
            "conv2d_transpose (Conv2DTran (None, 32, 32, 256)       1048832   \n",
            "_________________________________________________________________\n",
            "leaky_re_lu_2 (LeakyReLU)    (None, 32, 32, 256)       0         \n",
            "_________________________________________________________________\n",
            "conv2d_1 (Conv2D)            (None, 32, 32, 256)       1638656   \n",
            "_________________________________________________________________\n",
            "leaky_re_lu_3 (LeakyReLU)    (None, 32, 32, 256)       0         \n",
            "_________________________________________________________________\n",
            "conv2d_2 (Conv2D)            (None, 32, 32, 256)       1638656   \n",
            "_________________________________________________________________\n",
            "leaky_re_lu_4 (LeakyReLU)    (None, 32, 32, 256)       0         \n",
            "_________________________________________________________________\n",
            "conv2d_3 (Conv2D)            (None, 32, 32, 3)         37635     \n",
            "=================================================================\n",
            "Total params: 6,264,579\n",
            "Trainable params: 6,264,579\n",
            "Non-trainable params: 0\n",
            "_________________________________________________________________\n"
          ],
          "name": "stdout"
        }
      ]
    },
    {
      "cell_type": "code",
      "metadata": {
        "id": "8OsnGi4ite68",
        "outputId": "0a0bad1b-8175-425e-fc95-ce554749039a",
        "colab": {
          "base_uri": "https://localhost:8080/",
          "height": 554
        }
      },
      "source": [
        "discriminator_input = layers.Input(shape=(height, width, channels))\n",
        "x = layers.Conv2D(128, 3)(discriminator_input)\n",
        "x = layers.LeakyReLU()(x)\n",
        "x = layers.Conv2D(128, 4, strides=2)(x)\n",
        "x = layers.LeakyReLU()(x)\n",
        "x = layers.Conv2D(128, 4, strides=2)(x)\n",
        "x = layers.LeakyReLU()(x)\n",
        "x = layers.Conv2D(128, 4, strides=2)(x)\n",
        "x = layers.LeakyReLU()(x)\n",
        "x = layers.Flatten()(x)\n",
        "\n",
        "# 드롭아웃 층을 넣는 것이 아주 중요합니다!!!\n",
        "x = layers.Dropout(0.4)(x)\n",
        "\n",
        "# 분류 층\n",
        "x = layers.Dense(1, activation='sigmoid')(x) # 판단을 위한 1\n",
        "\n",
        "discriminator = keras.models.Model(discriminator_input, x)\n",
        "discriminator.summary()\n",
        "\n",
        "# 옵티마이저에서 (값을 지정하여) 그래디언트 클리핑을 사용합니다\n",
        "# 안정된 훈련을 위해서 학습률 감쇠를 사용합니다\n",
        "discriminator_optimizer = keras.optimizers.RMSprop(lr=0.0008, clipvalue=1.0, decay=1e-8)\n",
        "discriminator.compile(optimizer=discriminator_optimizer, loss='binary_crossentropy')"
      ],
      "execution_count": 2,
      "outputs": [
        {
          "output_type": "stream",
          "text": [
            "Model: \"functional_3\"\n",
            "_________________________________________________________________\n",
            "Layer (type)                 Output Shape              Param #   \n",
            "=================================================================\n",
            "input_2 (InputLayer)         [(None, 32, 32, 3)]       0         \n",
            "_________________________________________________________________\n",
            "conv2d_4 (Conv2D)            (None, 30, 30, 128)       3584      \n",
            "_________________________________________________________________\n",
            "leaky_re_lu_5 (LeakyReLU)    (None, 30, 30, 128)       0         \n",
            "_________________________________________________________________\n",
            "conv2d_5 (Conv2D)            (None, 14, 14, 128)       262272    \n",
            "_________________________________________________________________\n",
            "leaky_re_lu_6 (LeakyReLU)    (None, 14, 14, 128)       0         \n",
            "_________________________________________________________________\n",
            "conv2d_6 (Conv2D)            (None, 6, 6, 128)         262272    \n",
            "_________________________________________________________________\n",
            "leaky_re_lu_7 (LeakyReLU)    (None, 6, 6, 128)         0         \n",
            "_________________________________________________________________\n",
            "conv2d_7 (Conv2D)            (None, 2, 2, 128)         262272    \n",
            "_________________________________________________________________\n",
            "leaky_re_lu_8 (LeakyReLU)    (None, 2, 2, 128)         0         \n",
            "_________________________________________________________________\n",
            "flatten (Flatten)            (None, 512)               0         \n",
            "_________________________________________________________________\n",
            "dropout (Dropout)            (None, 512)               0         \n",
            "_________________________________________________________________\n",
            "dense_1 (Dense)              (None, 1)                 513       \n",
            "=================================================================\n",
            "Total params: 790,913\n",
            "Trainable params: 790,913\n",
            "Non-trainable params: 0\n",
            "_________________________________________________________________\n"
          ],
          "name": "stdout"
        }
      ]
    },
    {
      "cell_type": "code",
      "metadata": {
        "id": "ToZiWz9tte7A"
      },
      "source": [
        "# 판별자의 가중치가 훈련되지 않도록 설정합니다(gan 모델에만 적용됩니다)\n",
        "discriminator.trainable = False\n",
        "\n",
        "gan_input = keras.Input(shape=(latent_dim,))\n",
        "gan_output = discriminator(generator(gan_input))\n",
        "gan = keras.models.Model(gan_input, gan_output)\n",
        "\n",
        "gan_optimizer = keras.optimizers.RMSprop(lr=0.0004, clipvalue=1.0, decay=1e-8)\n",
        "gan.compile(optimizer=gan_optimizer, loss='binary_crossentropy')"
      ],
      "execution_count": 3,
      "outputs": []
    },
    {
      "cell_type": "code",
      "metadata": {
        "id": "eQY5mUPZ7IUL"
      },
      "source": [
        "# !mkdir './gan_images/'\n",
        "# rm ./gan_images/"
      ],
      "execution_count": null,
      "outputs": []
    },
    {
      "cell_type": "code",
      "metadata": {
        "id": "_UKImEW1te7F",
        "outputId": "54d58955-6fef-40c4-a413-edea195a9c7f",
        "colab": {
          "base_uri": "https://localhost:8080/",
          "height": 1000
        }
      },
      "source": [
        "import os\n",
        "from keras.preprocessing import image\n",
        "\n",
        "# CIFAR10 데이터를 로드합니다\n",
        "(x_train, y_train), (_, _) = keras.datasets.cifar10.load_data()\n",
        "\n",
        "# 개구리 이미지를 선택합니다(클래스 6)\n",
        "x_train = x_train[y_train.flatten() == 6]\n",
        "\n",
        "# 데이터를 정규화합니다\n",
        "x_train = x_train.reshape(\n",
        "    (x_train.shape[0],) + (height, width, channels)).astype('float32') / 255.\n",
        "\n",
        "iterations = 10000\n",
        "batch_size = 20\n",
        "save_dir = './gan_images/'\n",
        "if not os.path.exists(save_dir):\n",
        "    os.mkdir(save_dir)\n",
        "\n",
        "# 훈련 반복 시작\n",
        "start = 0\n",
        "for step in range(iterations):\n",
        "    # 잠재 공간에서 무작위로 포인트를 샘플링합니다\n",
        "    random_latent_vectors = np.random.normal(size=(batch_size, latent_dim))\n",
        "\n",
        "    # 가짜 이미지를 디코딩합니다\n",
        "    generated_images = generator.predict(random_latent_vectors)\n",
        "\n",
        "    # 진짜 이미지와 연결합니다\n",
        "    stop = start + batch_size\n",
        "    real_images = x_train[start: stop]\n",
        "    combined_images = np.concatenate([generated_images, real_images])\n",
        "\n",
        "    # 진짜와 가짜 이미지를 구분하여 레이블을 합칩니다\n",
        "    labels = np.concatenate([np.ones((batch_size, 1)),\n",
        "                             np.zeros((batch_size, 1))])\n",
        "    # 레이블에 랜덤 노이즈를 추가합니다. 아주 중요합니다!\n",
        "    labels += 0.05 * np.random.random(labels.shape)\n",
        "\n",
        "    # discriminator를 훈련합니다\n",
        "    discriminator.trainable = True\n",
        "    d_loss = discriminator.train_on_batch(combined_images, labels)\n",
        "\n",
        "    # 잠재 공간에서 무작위로 포인트를 샘플링합니다\n",
        "    random_latent_vectors = np.random.normal(size=(batch_size, latent_dim))\n",
        "\n",
        "    # 모두 “진짜 이미지\"라고 레이블을 만듭니다\n",
        "    misleading_targets = np.zeros((batch_size, 1))\n",
        "\n",
        "    # generator를 훈련합니다(gan 모델에서 discriminator의 가중치는 동결됩니다)\n",
        "    discriminator.trainable = False\n",
        "    a_loss = gan.train_on_batch(random_latent_vectors, misleading_targets)\n",
        "    \n",
        "    start += batch_size\n",
        "    if start > len(x_train) - batch_size:\n",
        "      start = 0\n",
        "\n",
        "    # 중간 중간 저장하고 그래프를 그립니다\n",
        "    if step % 100 == 0:\n",
        "        # 모델 가중치를 저장합니다\n",
        "        gan.save_weights('gan.h5')\n",
        "\n",
        "        # 측정 지표를 출력합니다\n",
        "        print('스텝 %s에서 판별자 손실: %s' % (step, d_loss))\n",
        "        print('스텝 %s에서 적대적 손실: %s' % (step, a_loss))\n",
        "\n",
        "        # 생성된 이미지 하나를 저장합니다\n",
        "        img = image.array_to_img(generated_images[0] * 255., scale=False)\n",
        "        img.save(os.path.join(save_dir, 'generated_frog' + str(step) + '.png'))\n",
        "\n",
        "        # 비교를 위해 진짜 이미지 하나를 저장합니다\n",
        "        img = image.array_to_img(real_images[0] * 255., scale=False)\n",
        "        img.save(os.path.join(save_dir, 'real_frog' + str(step) + '.png'))"
      ],
      "execution_count": 4,
      "outputs": [
        {
          "output_type": "stream",
          "text": [
            "스텝 0에서 판별자 손실: 0.7102981209754944\n",
            "스텝 0에서 적대적 손실: 0.6987913250923157\n",
            "스텝 100에서 판별자 손실: 0.7126680612564087\n",
            "스텝 100에서 적대적 손실: 0.7978431582450867\n",
            "스텝 200에서 판별자 손실: 0.6724740266799927\n",
            "스텝 200에서 적대적 손실: 1.1549137830734253\n",
            "스텝 300에서 판별자 손실: 0.6972423195838928\n",
            "스텝 300에서 적대적 손실: 0.7466840147972107\n",
            "스텝 400에서 판별자 손실: 0.6880873441696167\n",
            "스텝 400에서 적대적 손실: 0.7940677404403687\n",
            "스텝 500에서 판별자 손실: 0.7004850506782532\n",
            "스텝 500에서 적대적 손실: 0.7294225096702576\n",
            "스텝 600에서 판별자 손실: 0.68072110414505\n",
            "스텝 600에서 적대적 손실: 0.7596998810768127\n",
            "스텝 700에서 판별자 손실: 0.7161882519721985\n",
            "스텝 700에서 적대적 손실: 0.7476987242698669\n",
            "스텝 800에서 판별자 손실: 0.6906548738479614\n",
            "스텝 800에서 적대적 손실: 0.8787751197814941\n",
            "스텝 900에서 판별자 손실: 0.6926041841506958\n",
            "스텝 900에서 적대적 손실: 0.7703384160995483\n",
            "스텝 1000에서 판별자 손실: 0.6909853219985962\n",
            "스텝 1000에서 적대적 손실: 0.7621342539787292\n",
            "스텝 1100에서 판별자 손실: 0.7015998959541321\n",
            "스텝 1100에서 적대적 손실: 0.7296250462532043\n",
            "스텝 1200에서 판별자 손실: 0.687385618686676\n",
            "스텝 1200에서 적대적 손실: 0.7692739963531494\n",
            "스텝 1300에서 판별자 손실: 0.699936032295227\n",
            "스텝 1300에서 적대적 손실: 0.7588652968406677\n",
            "스텝 1400에서 판별자 손실: 0.6631526350975037\n",
            "스텝 1400에서 적대적 손실: 0.6183017492294312\n",
            "스텝 1500에서 판별자 손실: 0.7026265263557434\n",
            "스텝 1500에서 적대적 손실: 0.7468083500862122\n",
            "스텝 1600에서 판별자 손실: 0.708215594291687\n",
            "스텝 1600에서 적대적 손실: 0.7287366986274719\n",
            "스텝 1700에서 판별자 손실: 0.6785071492195129\n",
            "스텝 1700에서 적대적 손실: 0.7690932750701904\n",
            "스텝 1800에서 판별자 손실: 0.6861788034439087\n",
            "스텝 1800에서 적대적 손실: 0.734430730342865\n",
            "스텝 1900에서 판별자 손실: 0.7012544870376587\n",
            "스텝 1900에서 적대적 손실: 0.7463913559913635\n",
            "스텝 2000에서 판별자 손실: 0.6921223402023315\n",
            "스텝 2000에서 적대적 손실: 0.7299925088882446\n",
            "스텝 2100에서 판별자 손실: 0.7207033038139343\n",
            "스텝 2100에서 적대적 손실: 0.7534233927726746\n",
            "스텝 2200에서 판별자 손실: 0.6985775828361511\n",
            "스텝 2200에서 적대적 손실: 0.7314344048500061\n",
            "스텝 2300에서 판별자 손실: 0.6934070587158203\n",
            "스텝 2300에서 적대적 손실: 0.7238112092018127\n",
            "스텝 2400에서 판별자 손실: 0.7039384841918945\n",
            "스텝 2400에서 적대적 손실: 0.7397478818893433\n",
            "스텝 2500에서 판별자 손실: 0.6907752156257629\n",
            "스텝 2500에서 적대적 손실: 0.7448577880859375\n",
            "스텝 2600에서 판별자 손실: 0.6902416348457336\n",
            "스텝 2600에서 적대적 손실: 0.7624081373214722\n",
            "스텝 2700에서 판별자 손실: 0.6872084140777588\n",
            "스텝 2700에서 적대적 손실: 0.787209153175354\n",
            "스텝 2800에서 판별자 손실: 0.69898521900177\n",
            "스텝 2800에서 적대적 손실: 0.7467226386070251\n",
            "스텝 2900에서 판별자 손실: 0.6786186695098877\n",
            "스텝 2900에서 적대적 손실: 0.7474536299705505\n",
            "스텝 3000에서 판별자 손실: 0.6788352727890015\n",
            "스텝 3000에서 적대적 손실: 0.7912115454673767\n",
            "스텝 3100에서 판별자 손실: 0.6692821383476257\n",
            "스텝 3100에서 적대적 손실: 2.817929267883301\n",
            "스텝 3200에서 판별자 손실: 0.6957806348800659\n",
            "스텝 3200에서 적대적 손실: 0.7206355333328247\n",
            "스텝 3300에서 판별자 손실: 0.6849945187568665\n",
            "스텝 3300에서 적대적 손실: 0.6498047113418579\n",
            "스텝 3400에서 판별자 손실: 0.7191684246063232\n",
            "스텝 3400에서 적대적 손실: 0.7483687400817871\n",
            "스텝 3500에서 판별자 손실: 0.672682523727417\n",
            "스텝 3500에서 적대적 손실: 0.7436691522598267\n",
            "스텝 3600에서 판별자 손실: 0.6941691637039185\n",
            "스텝 3600에서 적대적 손실: 0.7364231944084167\n",
            "스텝 3700에서 판별자 손실: 0.6973170042037964\n",
            "스텝 3700에서 적대적 손실: 0.7403661012649536\n",
            "스텝 3800에서 판별자 손실: 0.6919015645980835\n",
            "스텝 3800에서 적대적 손실: 0.7617923617362976\n",
            "스텝 3900에서 판별자 손실: 0.6879490613937378\n",
            "스텝 3900에서 적대적 손실: 0.7170227766036987\n",
            "스텝 4000에서 판별자 손실: 0.7005507946014404\n",
            "스텝 4000에서 적대적 손실: 0.7639350295066833\n",
            "스텝 4100에서 판별자 손실: 0.7038832902908325\n",
            "스텝 4100에서 적대적 손실: 0.7543577551841736\n",
            "스텝 4200에서 판별자 손실: 0.6834043860435486\n",
            "스텝 4200에서 적대적 손실: 0.734433650970459\n",
            "스텝 4300에서 판별자 손실: 0.6838430166244507\n",
            "스텝 4300에서 적대적 손실: 0.7863444685935974\n",
            "스텝 4400에서 판별자 손실: 0.7142897844314575\n",
            "스텝 4400에서 적대적 손실: 0.8129194378852844\n",
            "스텝 4500에서 판별자 손실: 0.6853986978530884\n",
            "스텝 4500에서 적대적 손실: 0.7220908999443054\n",
            "스텝 4600에서 판별자 손실: 0.7303078770637512\n",
            "스텝 4600에서 적대적 손실: 0.8026124835014343\n",
            "스텝 4700에서 판별자 손실: 0.6920665502548218\n",
            "스텝 4700에서 적대적 손실: 0.7430419921875\n",
            "스텝 4800에서 판별자 손실: 0.685865044593811\n",
            "스텝 4800에서 적대적 손실: 0.7668217420578003\n",
            "스텝 4900에서 판별자 손실: 0.690313994884491\n",
            "스텝 4900에서 적대적 손실: 0.748979926109314\n",
            "스텝 5000에서 판별자 손실: 0.7012461423873901\n",
            "스텝 5000에서 적대적 손실: 0.8445638418197632\n",
            "스텝 5100에서 판별자 손실: 0.6824023127555847\n",
            "스텝 5100에서 적대적 손실: 0.8644479513168335\n",
            "스텝 5200에서 판별자 손실: 0.6969375014305115\n",
            "스텝 5200에서 적대적 손실: 0.7795364260673523\n",
            "스텝 5300에서 판별자 손실: 0.6972225904464722\n",
            "스텝 5300에서 적대적 손실: 0.7277554273605347\n",
            "스텝 5400에서 판별자 손실: 0.6919397115707397\n",
            "스텝 5400에서 적대적 손실: 0.7575204968452454\n",
            "스텝 5500에서 판별자 손실: 0.7003523707389832\n",
            "스텝 5500에서 적대적 손실: 0.7320899367332458\n",
            "스텝 5600에서 판별자 손실: 0.69317626953125\n",
            "스텝 5600에서 적대적 손실: 0.6879757642745972\n",
            "스텝 5700에서 판별자 손실: 0.6972090005874634\n",
            "스텝 5700에서 적대적 손실: 0.7565138936042786\n",
            "스텝 5800에서 판별자 손실: 0.6910216212272644\n",
            "스텝 5800에서 적대적 손실: 0.7164511680603027\n",
            "스텝 5900에서 판별자 손실: 0.6856048107147217\n",
            "스텝 5900에서 적대적 손실: 0.7004864811897278\n",
            "스텝 6000에서 판별자 손실: 0.7273263931274414\n",
            "스텝 6000에서 적대적 손실: 0.7544860243797302\n",
            "스텝 6100에서 판별자 손실: 0.6949641108512878\n",
            "스텝 6100에서 적대적 손실: 0.7816423773765564\n",
            "스텝 6200에서 판별자 손실: 0.6935551762580872\n",
            "스텝 6200에서 적대적 손실: 0.7877370119094849\n",
            "스텝 6300에서 판별자 손실: 0.6555947065353394\n",
            "스텝 6300에서 적대적 손실: 0.5788752436637878\n",
            "스텝 6400에서 판별자 손실: 0.7242088913917542\n",
            "스텝 6400에서 적대적 손실: 0.8578459620475769\n",
            "스텝 6500에서 판별자 손실: 0.6911312937736511\n",
            "스텝 6500에서 적대적 손실: 0.8879419565200806\n",
            "스텝 6600에서 판별자 손실: 0.6859992742538452\n",
            "스텝 6600에서 적대적 손실: 0.8071964383125305\n",
            "스텝 6700에서 판별자 손실: 0.6938794851303101\n",
            "스텝 6700에서 적대적 손실: 0.7670517563819885\n",
            "스텝 6800에서 판별자 손실: 0.6945974230766296\n",
            "스텝 6800에서 적대적 손실: 0.7971559166908264\n",
            "스텝 6900에서 판별자 손실: 0.6750525236129761\n",
            "스텝 6900에서 적대적 손실: 0.7457401156425476\n",
            "스텝 7000에서 판별자 손실: 0.6717993021011353\n",
            "스텝 7000에서 적대적 손실: 0.7601035833358765\n",
            "스텝 7100에서 판별자 손실: 0.7343343496322632\n",
            "스텝 7100에서 적대적 손실: 0.7832786440849304\n",
            "스텝 7200에서 판별자 손실: 0.6937459707260132\n",
            "스텝 7200에서 적대적 손실: 0.7777856588363647\n",
            "스텝 7300에서 판별자 손실: 0.676013171672821\n",
            "스텝 7300에서 적대적 손실: 0.8028532266616821\n",
            "스텝 7400에서 판별자 손실: 0.6966697573661804\n",
            "스텝 7400에서 적대적 손실: 1.470749855041504\n",
            "스텝 7500에서 판별자 손실: 0.6826475858688354\n",
            "스텝 7500에서 적대적 손실: 0.8006126284599304\n",
            "스텝 7600에서 판별자 손실: 0.6585591435432434\n",
            "스텝 7600에서 적대적 손실: 0.7407084703445435\n",
            "스텝 7700에서 판별자 손실: 0.6961529850959778\n",
            "스텝 7700에서 적대적 손실: 0.8031703233718872\n",
            "스텝 7800에서 판별자 손실: 0.7392157912254333\n",
            "스텝 7800에서 적대적 손실: 0.9553506970405579\n",
            "스텝 7900에서 판별자 손실: 0.7069619297981262\n",
            "스텝 7900에서 적대적 손실: 0.7920303344726562\n",
            "스텝 8000에서 판별자 손실: 0.6976200342178345\n",
            "스텝 8000에서 적대적 손실: 0.8023262023925781\n",
            "스텝 8100에서 판별자 손실: 0.7163171768188477\n",
            "스텝 8100에서 적대적 손실: 0.8494186401367188\n",
            "스텝 8200에서 판별자 손실: 0.6824931502342224\n",
            "스텝 8200에서 적대적 손실: 0.743777871131897\n",
            "스텝 8300에서 판별자 손실: 0.6742965579032898\n",
            "스텝 8300에서 적대적 손실: 0.8793878555297852\n",
            "스텝 8400에서 판별자 손실: 0.6625682711601257\n",
            "스텝 8400에서 적대적 손실: 0.7973068952560425\n",
            "스텝 8500에서 판별자 손실: 0.7329322099685669\n",
            "스텝 8500에서 적대적 손실: 0.7422617673873901\n",
            "스텝 8600에서 판별자 손실: 0.6471495032310486\n",
            "스텝 8600에서 적대적 손실: 0.8242095708847046\n",
            "스텝 8700에서 판별자 손실: 0.6998252868652344\n",
            "스텝 8700에서 적대적 손실: 0.9352819323539734\n",
            "스텝 8800에서 판별자 손실: 0.6942130923271179\n",
            "스텝 8800에서 적대적 손실: 0.8854579925537109\n",
            "스텝 8900에서 판별자 손실: 0.717637836933136\n",
            "스텝 8900에서 적대적 손실: 0.9495008587837219\n",
            "스텝 9000에서 판별자 손실: 0.6694892644882202\n",
            "스텝 9000에서 적대적 손실: 0.8543094396591187\n",
            "스텝 9100에서 판별자 손실: 0.7062003016471863\n",
            "스텝 9100에서 적대적 손실: 0.7166010737419128\n",
            "스텝 9200에서 판별자 손실: 0.6931838989257812\n",
            "스텝 9200에서 적대적 손실: 0.7465382218360901\n",
            "스텝 9300에서 판별자 손실: 0.6814924478530884\n",
            "스텝 9300에서 적대적 손실: 0.7790327668190002\n",
            "스텝 9400에서 판별자 손실: 0.7263094186782837\n",
            "스텝 9400에서 적대적 손실: 1.8307831287384033\n",
            "스텝 9500에서 판별자 손실: 0.704249382019043\n",
            "스텝 9500에서 적대적 손실: 1.0527431964874268\n",
            "스텝 9600에서 판별자 손실: 0.6657167673110962\n",
            "스텝 9600에서 적대적 손실: 0.868157684803009\n",
            "스텝 9700에서 판별자 손실: 0.7000734806060791\n",
            "스텝 9700에서 적대적 손실: 0.7122862339019775\n",
            "스텝 9800에서 판별자 손실: 0.6360933780670166\n",
            "스텝 9800에서 적대적 손실: 0.8619910478591919\n",
            "스텝 9900에서 판별자 손실: 0.6461392641067505\n",
            "스텝 9900에서 적대적 손실: 0.844929575920105\n"
          ],
          "name": "stdout"
        }
      ]
    },
    {
      "cell_type": "code",
      "metadata": {
        "id": "YRKjvpMute7I"
      },
      "source": [
        "import matplotlib.pyplot as plt"
      ],
      "execution_count": 5,
      "outputs": []
    },
    {
      "cell_type": "code",
      "metadata": {
        "id": "SFgynxRpte7L",
        "outputId": "23ba9386-2089-442b-faf0-1961172bcec8",
        "colab": {
          "base_uri": "https://localhost:8080/",
          "height": 1000
        }
      },
      "source": [
        "# 잠재 공간에서 랜덤한 포인트를 샘플링합니다\n",
        "random_latent_vectors = np.random.normal(size=(10, latent_dim))\n",
        "\n",
        "# 가짜 이미지로 디코딩합니다\n",
        "generated_images = generator.predict(random_latent_vectors)\n",
        "\n",
        "for i in range(generated_images.shape[0]):\n",
        "    img = image.array_to_img(generated_images[i] * 255., scale=False)\n",
        "    plt.figure()\n",
        "    plt.imshow(img)\n",
        "    \n",
        "plt.show()"
      ],
      "execution_count": 7,
      "outputs": [
        {
          "output_type": "display_data",
          "data": {
            "image/png": "[encoded data removed]",
            "text/plain": [
              "<Figure size 432x288 with 1 Axes>"
            ]
          },
          "metadata": {
            "tags": [],
            "needs_background": "light"
          }
        },
        {
          "output_type": "display_data",
          "data": {
            "image/png": "[encoded data removed]",
            "text/plain": [
              "<Figure size 432x288 with 1 Axes>"
            ]
          },
          "metadata": {
            "tags": [],
            "needs_background": "light"
          }
        },
        {
          "output_type": "display_data",
          "data": {
            "image/png": "[encoded data removed]",
            "text/plain": [
              "<Figure size 432x288 with 1 Axes>"
            ]
          },
          "metadata": {
            "tags": [],
            "needs_background": "light"
          }
        },
        {
          "output_type": "display_data",
          "data": {
            "image/png": "[encoded data removed]",
            "text/plain": [
              "<Figure size 432x288 with 1 Axes>"
            ]
          },
          "metadata": {
            "tags": [],
            "needs_background": "light"
          }
        },
        {
          "output_type": "display_data",
          "data": {
            "image/png": "[encoded data removed]",
            "text/plain": [
              "<Figure size 432x288 with 1 Axes>"
            ]
          },
          "metadata": {
            "tags": [],
            "needs_background": "light"
          }
        },
        {
          "output_type": "display_data",
          "data": {
            "image/png": "[encoded data removed]",
            "text/plain": [
              "<Figure size 432x288 with 1 Axes>"
            ]
          },
          "metadata": {
            "tags": [],
            "needs_background": "light"
          }
        },
        {
          "output_type": "display_data",
          "data": {
            "image/png": "[encoded data removed]",
            "text/plain": [
              "<Figure size 432x288 with 1 Axes>"
            ]
          },
          "metadata": {
            "tags": [],
            "needs_background": "light"
          }
        },
        {
          "output_type": "display_data",
          "data": {
            "image/png": "[encoded data removed]",
            "text/plain": [
              "<Figure size 432x288 with 1 Axes>"
            ]
          },
          "metadata": {
            "tags": [],
            "needs_background": "light"
          }
        },
        {
          "output_type": "display_data",
          "data": {
            "image/png": "[encoded data removed]",
            "text/plain": [
              "<Figure size 432x288 with 1 Axes>"
            ]
          },
          "metadata": {
            "tags": [],
            "needs_background": "light"
          }
        },
        {
          "output_type": "display_data",
          "data": {
            "image/png": "[encoded data removed]",
            "text/plain": [
              "<Figure size 432x288 with 1 Axes>"
            ]
          },
          "metadata": {
            "tags": [],
            "needs_background": "light"
          }
        }
      ]
    }
  ]
}