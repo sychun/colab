{
  "nbformat": 4,
  "nbformat_minor": 0,
  "metadata": {
    "colab": {
      "name": "h.nn.rnn-4.ipynb",
      "provenance": [],
      "collapsed_sections": [],
      "authorship_tag": "ABX9TyO1XoSfZf07QpWqKjuuCz6G",
      "include_colab_link": true
    },
    "kernelspec": {
      "name": "python3",
      "display_name": "Python 3"
    },
    "accelerator": "GPU"
  },
  "cells": [
    {
      "cell_type": "markdown",
      "metadata": {
        "id": "view-in-github",
        "colab_type": "text"
      },
      "source": [
        "<a href=\"https://colab.research.google.com/github/sychun/colab/blob/master/h_nn_rnn_4.ipynb\" target=\"_parent\"><img src=\"https://colab.research.google.com/assets/colab-badge.svg\" alt=\"Open In Colab\"/></a>"
      ]
    },
    {
      "cell_type": "code",
      "metadata": {
        "id": "FRtBe-LbbWQv"
      },
      "source": [
        "import tensorflow as tf\n",
        "import tensorflow.keras as keras"
      ],
      "execution_count": 1,
      "outputs": []
    },
    {
      "cell_type": "code",
      "metadata": {
        "id": "ks4StcacaSgv"
      },
      "source": [
        "# !wget https://s3.amazonaws.com/keras-datasets/jena_climate_2009_2016.csv.zip\n",
        "# !unzip jena_climate_2009_2016.csv.zip\n",
        "# !rm -f jena_climate_2009_2016.csv.zip\n",
        "# !mkdir data-files\n",
        "# !mkdir data-files/jena_climate\n",
        "# !mv jena_climate_2009_2016.csv data-files/jena_climate"
      ],
      "execution_count": 2,
      "outputs": []
    },
    {
      "cell_type": "code",
      "metadata": {
        "id": "HU6x8yHpbMZp",
        "outputId": "38db3a58-237b-4116-a326-53321f8f4746",
        "colab": {
          "base_uri": "https://localhost:8080/",
          "height": 70
        }
      },
      "source": [
        "import os\n",
        "\n",
        "data_dir = './data-files/jena_climate/'\n",
        "fname = os.path.join(data_dir, 'jena_climate_2009_2016.csv')\n",
        "\n",
        "f = open(fname)\n",
        "data = f.read()\n",
        "f.close()\n",
        "\n",
        "lines = data.split('\\n')\n",
        "header = lines[0].split(',')\n",
        "lines = lines[1:]\n",
        "\n",
        "print(header)\n",
        "print(len(lines))"
      ],
      "execution_count": 3,
      "outputs": [
        {
          "output_type": "stream",
          "text": [
            "['\"Date Time\"', '\"p (mbar)\"', '\"T (degC)\"', '\"Tpot (K)\"', '\"Tdew (degC)\"', '\"rh (%)\"', '\"VPmax (mbar)\"', '\"VPact (mbar)\"', '\"VPdef (mbar)\"', '\"sh (g/kg)\"', '\"H2OC (mmol/mol)\"', '\"rho (g/m**3)\"', '\"wv (m/s)\"', '\"max. wv (m/s)\"', '\"wd (deg)\"']\n",
            "420551\n"
          ],
          "name": "stdout"
        }
      ]
    },
    {
      "cell_type": "code",
      "metadata": {
        "id": "UkaGmuqJckyE",
        "outputId": "861fcc69-ba53-47b2-cb9c-7b9d71b0ac19",
        "colab": {
          "base_uri": "https://localhost:8080/",
          "height": 67
        }
      },
      "source": [
        "lines[:3]"
      ],
      "execution_count": 4,
      "outputs": [
        {
          "output_type": "execute_result",
          "data": {
            "text/plain": [
              "['01.01.2009 00:10:00,996.52,-8.02,265.40,-8.90,93.30,3.33,3.11,0.22,1.94,3.12,1307.75,1.03,1.75,152.30',\n",
              " '01.01.2009 00:20:00,996.57,-8.41,265.01,-9.28,93.40,3.23,3.02,0.21,1.89,3.03,1309.80,0.72,1.50,136.10',\n",
              " '01.01.2009 00:30:00,996.53,-8.51,264.91,-9.31,93.90,3.21,3.01,0.20,1.88,3.02,1310.24,0.19,0.63,171.60']"
            ]
          },
          "metadata": {
            "tags": []
          },
          "execution_count": 4
        }
      ]
    },
    {
      "cell_type": "code",
      "metadata": {
        "id": "B6IryJSTbP2h"
      },
      "source": [
        "import numpy as np\n",
        "\n",
        "float_data = np.zeros((len(lines), len(header) - 1))\n",
        "for i, line in enumerate(lines):\n",
        "    values = [float(x) for x in line.split(',')[1:]]\n",
        "    float_data[i, :] = values\n"
      ],
      "execution_count": 5,
      "outputs": []
    },
    {
      "cell_type": "code",
      "metadata": {
        "id": "LUnk6dkJdMHC",
        "outputId": "9fcf2b3e-cafd-40c9-92a0-0dfc4521c6c1",
        "colab": {
          "base_uri": "https://localhost:8080/",
          "height": 84
        }
      },
      "source": [
        "float_data[0].shape, float_data[0]"
      ],
      "execution_count": 6,
      "outputs": [
        {
          "output_type": "execute_result",
          "data": {
            "text/plain": [
              "((14,), array([ 9.96520e+02, -8.02000e+00,  2.65400e+02, -8.90000e+00,\n",
              "         9.33000e+01,  3.33000e+00,  3.11000e+00,  2.20000e-01,\n",
              "         1.94000e+00,  3.12000e+00,  1.30775e+03,  1.03000e+00,\n",
              "         1.75000e+00,  1.52300e+02]))"
            ]
          },
          "metadata": {
            "tags": []
          },
          "execution_count": 6
        }
      ]
    },
    {
      "cell_type": "code",
      "metadata": {
        "id": "K_XaRsiNe1DY"
      },
      "source": [
        "from matplotlib import pyplot as plt"
      ],
      "execution_count": 7,
      "outputs": []
    },
    {
      "cell_type": "code",
      "metadata": {
        "id": "Nv89deSoeHDC",
        "outputId": "1601eb7b-baa8-4f1d-d014-3557b384b602",
        "colab": {
          "base_uri": "https://localhost:8080/",
          "height": 285
        }
      },
      "source": [
        "temp = float_data[:, 1] # temperature (in degrees Celsius)\n",
        "plt.plot(range(len(temp)), temp)"
      ],
      "execution_count": 8,
      "outputs": [
        {
          "output_type": "execute_result",
          "data": {
            "text/plain": [
              "[<matplotlib.lines.Line2D at 0x7f9bac6f6940>]"
            ]
          },
          "metadata": {
            "tags": []
          },
          "execution_count": 8
        },
        {
          "output_type": "display_data",
          "data": {
            "image/png": "[encoded data removed]",
            "text/plain": [
              "<Figure size 432x288 with 1 Axes>"
            ]
          },
          "metadata": {
            "tags": [],
            "needs_background": "light"
          }
        }
      ]
    },
    {
      "cell_type": "code",
      "metadata": {
        "id": "0QdCTI-meX-H",
        "outputId": "f80e7322-c9fd-4ce2-9b3e-3e2d9178b288",
        "colab": {
          "base_uri": "https://localhost:8080/",
          "height": 282
        }
      },
      "source": [
        "plt.plot(range(1440), temp[:1440])"
      ],
      "execution_count": 9,
      "outputs": [
        {
          "output_type": "execute_result",
          "data": {
            "text/plain": [
              "[<matplotlib.lines.Line2D at 0x7f9bac1c3a58>]"
            ]
          },
          "metadata": {
            "tags": []
          },
          "execution_count": 9
        },
        {
          "output_type": "display_data",
          "data": {
            "image/png": "[encoded data removed]",
            "text/plain": [
              "<Figure size 432x288 with 1 Axes>"
            ]
          },
          "metadata": {
            "tags": [],
            "needs_background": "light"
          }
        }
      ]
    },
    {
      "cell_type": "code",
      "metadata": {
        "id": "N0T94Vqfbjj-"
      },
      "source": [
        "mean = float_data[:200000].mean(axis=0)\n",
        "float_data -= mean\n",
        "std = float_data[:200000].std(axis=0)\n",
        "float_data /= std"
      ],
      "execution_count": 10,
      "outputs": []
    },
    {
      "cell_type": "code",
      "metadata": {
        "id": "0tZ29Xb6g5Jo"
      },
      "source": [
        "# 참고 \n",
        "# from sklearn.preprocessing import StandardScaler\n",
        "\n",
        "# scaler = StandardScaler().fit(float_data2[:200000])\n",
        "# scaled_float_data2 = scaler.transform(float_data2)"
      ],
      "execution_count": 11,
      "outputs": []
    },
    {
      "cell_type": "code",
      "metadata": {
        "id": "fukKEVvLgtW1",
        "outputId": "7938f54f-1588-4588-fe13-3e93d430b3b9",
        "colab": {
          "base_uri": "https://localhost:8080/",
          "height": 34
        }
      },
      "source": [
        "float_data.shape"
      ],
      "execution_count": 12,
      "outputs": [
        {
          "output_type": "execute_result",
          "data": {
            "text/plain": [
              "(420551, 14)"
            ]
          },
          "metadata": {
            "tags": []
          },
          "execution_count": 12
        }
      ]
    },
    {
      "cell_type": "code",
      "metadata": {
        "id": "ucZhV44LbnoE"
      },
      "source": [
        "# 10일간의 데이터를 1시간 단위로 샘플링해서 시퀀스 생성 * 128 batch -> ( 128, 240, 14 )\n",
        "def generator(data, lookback, delay, min_index, max_index,\n",
        "              shuffle=False, batch_size=128, step=6):\n",
        "    if max_index is None:\n",
        "        max_index = len(data) - delay - 1\n",
        "    i = min_index + lookback\n",
        "    while 1:\n",
        "        if shuffle:\n",
        "            rows = np.random.randint(\n",
        "                min_index + lookback, max_index, size=batch_size)\n",
        "        else:\n",
        "            if i + batch_size >= max_index:\n",
        "                i = min_index + lookback\n",
        "            rows = np.arange(i, min(i + batch_size, max_index)) # 1440 ~ 1440 + 128\n",
        "            i += len(rows)\n",
        "\n",
        "        samples = np.zeros((len(rows),\n",
        "                           lookback // step,\n",
        "                           data.shape[-1])) # (128, 240, 14)\n",
        "        targets = np.zeros((len(rows),))\n",
        "        for j, row in enumerate(rows): # 0, 1440 / 1, 1441 / 2, 1442 / ...\n",
        "            indices = range(rows[j] - lookback, rows[j], step) # 0, 6, 12, 18, ....\n",
        "            samples[j] = data[indices]\n",
        "            targets[j] = data[rows[j] + delay][1]\n",
        "        yield samples, targets"
      ],
      "execution_count": 13,
      "outputs": []
    },
    {
      "cell_type": "code",
      "metadata": {
        "id": "DSpiJfS1brVv"
      },
      "source": [
        "lookback = 1440\n",
        "step = 6\n",
        "delay = 144 # 현 싯점에서 하루 뒤\n",
        "batch_size = 128\n",
        "\n",
        "train_gen = generator(float_data,\n",
        "                      lookback=lookback,\n",
        "                      delay=delay,\n",
        "                      min_index=0,\n",
        "                      max_index=200000,\n",
        "                      shuffle=True,\n",
        "                      step=step, \n",
        "                      batch_size=batch_size)\n",
        "val_gen = generator(float_data,\n",
        "                    lookback=lookback,\n",
        "                    delay=delay,\n",
        "                    min_index=200001,\n",
        "                    max_index=300000,\n",
        "                    step=step,\n",
        "                    batch_size=batch_size)\n",
        "test_gen = generator(float_data,\n",
        "                     lookback=lookback,\n",
        "                     delay=delay,\n",
        "                     min_index=300001,\n",
        "                     max_index=None,\n",
        "                     step=step,\n",
        "                     batch_size=batch_size)\n",
        "\n",
        "# 전체 검증 세트를 순회하기 위해 val_gen에서 추출할 횟수\n",
        "val_steps = (300000 - 200001 - lookback) // batch_size\n",
        "\n",
        "# 전체 테스트 세트를 순회하기 위해 test_gen에서 추출할 횟수\n",
        "test_steps = (len(float_data) - 300001 - lookback) // batch_size"
      ],
      "execution_count": 14,
      "outputs": []
    },
    {
      "cell_type": "code",
      "metadata": {
        "id": "oOuu1Fw0iFST"
      },
      "source": [
        "data = []\n",
        "for i in range(10):\n",
        "  data.append( next(train_gen))"
      ],
      "execution_count": 15,
      "outputs": []
    },
    {
      "cell_type": "code",
      "metadata": {
        "id": "Gb_XDZ6SigYg",
        "outputId": "2c4fdef3-c768-4a25-e048-5d44f3d0df98",
        "colab": {
          "base_uri": "https://localhost:8080/",
          "height": 34
        }
      },
      "source": [
        "data[0][0].shape, data[0][1].shape # 240은 순차적으로 이루어져야 함"
      ],
      "execution_count": 16,
      "outputs": [
        {
          "output_type": "execute_result",
          "data": {
            "text/plain": [
              "((128, 240, 14), (128,))"
            ]
          },
          "metadata": {
            "tags": []
          },
          "execution_count": 16
        }
      ]
    },
    {
      "cell_type": "code",
      "metadata": {
        "id": "Y1tvyKcOijoY"
      },
      "source": [
        "### 여기까지는 데이터 준비"
      ],
      "execution_count": 17,
      "outputs": []
    },
    {
      "cell_type": "code",
      "metadata": {
        "id": "rdOUrFy9j2jY",
        "outputId": "95c2f639-0138-4759-cec0-70fa2d1f5f6c",
        "colab": {
          "base_uri": "https://localhost:8080/",
          "height": 34
        }
      },
      "source": [
        "# 손실: (마지막 측정값(현재시간)) - 1일후 측정값)의 mae\n",
        "def evaluate_naive_method():\n",
        "    batch_maes = []\n",
        "    for step in range(val_steps):\n",
        "        samples, targets = next(val_gen)\n",
        "        preds = samples[:, -1, 1] # 마지막 현재 시간의 온도\n",
        "        mae = np.mean(np.abs(preds - targets))\n",
        "        batch_maes.append(mae)\n",
        "    print(np.mean(batch_maes))\n",
        "    \n",
        "evaluate_naive_method() # baseline 값을 확인하고, 다음을 진행해 보자"
      ],
      "execution_count": 18,
      "outputs": [
        {
          "output_type": "stream",
          "text": [
            "0.2897359729905486\n"
          ],
          "name": "stdout"
        }
      ]
    },
    {
      "cell_type": "code",
      "metadata": {
        "id": "9ofdS8ZSl2GO",
        "outputId": "12c0ed67-43f3-4a61-c7fa-e8eb1ff3cde1",
        "colab": {
          "base_uri": "https://localhost:8080/",
          "height": 689
        }
      },
      "source": [
        "model = keras.models.Sequential()\n",
        "model.add(keras.layers.Flatten(input_shape=(240, 14)))\n",
        "model.add(keras.layers.Dense(32, activation='relu'))\n",
        "model.add(keras.layers.Dense(1)) # 회귀이므로 항등함수\n",
        "\n",
        "model.compile(loss='mae', optimizer='rmsprop')\n",
        "\n",
        "history = model.fit(train_gen, steps_per_epoch=500, epochs=20, validation_data=val_gen, validation_steps=val_steps)"
      ],
      "execution_count": 22,
      "outputs": [
        {
          "output_type": "stream",
          "text": [
            "Epoch 1/20\n",
            "500/500 [==============================] - 13s 25ms/step - loss: 1.5662 - val_loss: 1.0594\n",
            "Epoch 2/20\n",
            "500/500 [==============================] - 12s 23ms/step - loss: 0.5040 - val_loss: 0.3098\n",
            "Epoch 3/20\n",
            "500/500 [==============================] - 12s 24ms/step - loss: 0.2964 - val_loss: 0.3270\n",
            "Epoch 4/20\n",
            "500/500 [==============================] - 12s 25ms/step - loss: 0.2690 - val_loss: 0.3066\n",
            "Epoch 5/20\n",
            "500/500 [==============================] - 12s 23ms/step - loss: 0.2557 - val_loss: 0.3122\n",
            "Epoch 6/20\n",
            "500/500 [==============================] - 11s 23ms/step - loss: 0.2466 - val_loss: 0.3047\n",
            "Epoch 7/20\n",
            "500/500 [==============================] - 11s 23ms/step - loss: 0.2386 - val_loss: 0.3287\n",
            "Epoch 8/20\n",
            "500/500 [==============================] - 11s 22ms/step - loss: 0.2322 - val_loss: 0.3113\n",
            "Epoch 9/20\n",
            "500/500 [==============================] - 11s 22ms/step - loss: 0.2284 - val_loss: 0.3444\n",
            "Epoch 10/20\n",
            "500/500 [==============================] - 11s 23ms/step - loss: 0.2232 - val_loss: 0.3159\n",
            "Epoch 11/20\n",
            "500/500 [==============================] - 11s 23ms/step - loss: 0.2213 - val_loss: 0.3458\n",
            "Epoch 12/20\n",
            "500/500 [==============================] - 11s 23ms/step - loss: 0.2170 - val_loss: 0.3324\n",
            "Epoch 13/20\n",
            "500/500 [==============================] - 11s 22ms/step - loss: 0.2149 - val_loss: 0.3412\n",
            "Epoch 14/20\n",
            "500/500 [==============================] - 11s 22ms/step - loss: 0.2117 - val_loss: 0.3191\n",
            "Epoch 15/20\n",
            "500/500 [==============================] - 11s 23ms/step - loss: 0.2087 - val_loss: 0.3393\n",
            "Epoch 16/20\n",
            "500/500 [==============================] - 11s 22ms/step - loss: 0.2081 - val_loss: 0.3272\n",
            "Epoch 17/20\n",
            "500/500 [==============================] - 11s 22ms/step - loss: 0.2051 - val_loss: 0.3445\n",
            "Epoch 18/20\n",
            "500/500 [==============================] - 11s 23ms/step - loss: 0.2044 - val_loss: 0.3345\n",
            "Epoch 19/20\n",
            "500/500 [==============================] - 11s 22ms/step - loss: 0.2023 - val_loss: 0.3386\n",
            "Epoch 20/20\n",
            "500/500 [==============================] - 11s 22ms/step - loss: 0.2009 - val_loss: 0.3379\n"
          ],
          "name": "stdout"
        }
      ]
    },
    {
      "cell_type": "code",
      "metadata": {
        "id": "R-pvT-cpn7df",
        "outputId": "22637b6a-6097-457d-a19f-62ea057eb811",
        "colab": {
          "base_uri": "https://localhost:8080/",
          "height": 281
        }
      },
      "source": [
        "import matplotlib.pyplot as plt\n",
        "loss = history.history['loss']\n",
        "val_loss = history.history['val_loss']\n",
        "epochs = range(1, len(loss) + 1)\n",
        "plt.figure()\n",
        "plt.plot(epochs, loss, 'bo', label='Training loss')\n",
        "plt.plot(epochs, val_loss, 'b', label='Validation loss')\n",
        "plt.title('Training and validation loss')\n",
        "plt.legend()\n",
        "plt.show()"
      ],
      "execution_count": 23,
      "outputs": [
        {
          "output_type": "display_data",
          "data": {
            "image/png": "[encoded data removed]",
            "text/plain": [
              "<Figure size 432x288 with 1 Axes>"
            ]
          },
          "metadata": {
            "tags": [],
            "needs_background": "light"
          }
        }
      ]
    },
    {
      "cell_type": "code",
      "metadata": {
        "id": "awv8xyytrRB3"
      },
      "source": [
        "### 위 결과가 만족스럽지 못하므로 RNN GRU로 재 시도"
      ],
      "execution_count": 24,
      "outputs": []
    },
    {
      "cell_type": "code",
      "metadata": {
        "id": "HUlbN2i-uLZ8",
        "outputId": "842e7f5d-88ae-4ab4-92bd-78e0a46ec485",
        "colab": {
          "base_uri": "https://localhost:8080/",
          "height": 689
        }
      },
      "source": [
        "model2 = keras.models.Sequential()\n",
        "model2.add(keras.layers.GRU(32, input_shape=(None, 14)))\n",
        "model2.add(keras.layers.Dense(1)) # 회귀이므로 항등함수\n",
        "\n",
        "model2.compile(loss='mae', optimizer=keras.optimizers.RMSprop(learning_rate=0.001))\n",
        "\n",
        "history = model2.fit(train_gen, steps_per_epoch=500, epochs=20, validation_data=val_gen, validation_steps=val_steps)"
      ],
      "execution_count": 26,
      "outputs": [
        {
          "output_type": "stream",
          "text": [
            "Epoch 1/20\n",
            "500/500 [==============================] - 16s 33ms/step - loss: 0.2973 - val_loss: 0.2715\n",
            "Epoch 2/20\n",
            "500/500 [==============================] - 16s 33ms/step - loss: 0.2857 - val_loss: 0.2681\n",
            "Epoch 3/20\n",
            "500/500 [==============================] - 16s 32ms/step - loss: 0.2762 - val_loss: 0.2655\n",
            "Epoch 4/20\n",
            "500/500 [==============================] - 16s 32ms/step - loss: 0.2705 - val_loss: 0.2634\n",
            "Epoch 5/20\n",
            "500/500 [==============================] - 16s 32ms/step - loss: 0.2657 - val_loss: 0.2718\n",
            "Epoch 6/20\n",
            "500/500 [==============================] - 16s 32ms/step - loss: 0.2599 - val_loss: 0.2614\n",
            "Epoch 7/20\n",
            "500/500 [==============================] - 16s 32ms/step - loss: 0.2575 - val_loss: 0.2685\n",
            "Epoch 8/20\n",
            "500/500 [==============================] - 16s 32ms/step - loss: 0.2518 - val_loss: 0.2718\n",
            "Epoch 9/20\n",
            "500/500 [==============================] - 16s 32ms/step - loss: 0.2490 - val_loss: 0.2713\n",
            "Epoch 10/20\n",
            "500/500 [==============================] - 16s 32ms/step - loss: 0.2440 - val_loss: 0.2726\n",
            "Epoch 11/20\n",
            "500/500 [==============================] - 16s 33ms/step - loss: 0.2402 - val_loss: 0.2781\n",
            "Epoch 12/20\n",
            "500/500 [==============================] - 16s 33ms/step - loss: 0.2337 - val_loss: 0.2777\n",
            "Epoch 13/20\n",
            "500/500 [==============================] - 16s 32ms/step - loss: 0.2300 - val_loss: 0.2832\n",
            "Epoch 14/20\n",
            "500/500 [==============================] - 16s 32ms/step - loss: 0.2263 - val_loss: 0.2863\n",
            "Epoch 15/20\n",
            "500/500 [==============================] - 16s 32ms/step - loss: 0.2221 - val_loss: 0.2881\n",
            "Epoch 16/20\n",
            "500/500 [==============================] - 16s 32ms/step - loss: 0.2188 - val_loss: 0.2891\n",
            "Epoch 17/20\n",
            "500/500 [==============================] - 16s 32ms/step - loss: 0.2167 - val_loss: 0.2930\n",
            "Epoch 18/20\n",
            "500/500 [==============================] - 16s 33ms/step - loss: 0.2115 - val_loss: 0.2954\n",
            "Epoch 19/20\n",
            "500/500 [==============================] - 16s 32ms/step - loss: 0.2102 - val_loss: 0.2952\n",
            "Epoch 20/20\n",
            "500/500 [==============================] - 16s 32ms/step - loss: 0.2063 - val_loss: 0.3028\n"
          ],
          "name": "stdout"
        }
      ]
    },
    {
      "cell_type": "code",
      "metadata": {
        "id": "KybjU5MgvzTM",
        "outputId": "7ea3b8df-ecc5-48db-ca8a-88e96c012b3b",
        "colab": {
          "base_uri": "https://localhost:8080/",
          "height": 281
        }
      },
      "source": [
        "import matplotlib.pyplot as plt\n",
        "loss = history.history['loss']\n",
        "val_loss = history.history['val_loss']\n",
        "epochs = range(1, len(loss) + 1)\n",
        "plt.figure()\n",
        "plt.plot(epochs, loss, 'bo', label='Training loss')\n",
        "plt.plot(epochs, val_loss, 'b', label='Validation loss')\n",
        "plt.title('Training and validation loss')\n",
        "plt.legend()\n",
        "plt.show()"
      ],
      "execution_count": 27,
      "outputs": [
        {
          "output_type": "display_data",
          "data": {
            "image/png": "[encoded data removed]",
            "text/plain": [
              "<Figure size 432x288 with 1 Axes>"
            ]
          },
          "metadata": {
            "tags": [],
            "needs_background": "light"
          }
        }
      ]
    },
    {
      "cell_type": "code",
      "metadata": {
        "id": "Zan-gTTixTyO"
      },
      "source": [
        ""
      ],
      "execution_count": null,
      "outputs": []
    }
  ]
}